{
 "cells": [
  {
   "cell_type": "code",
   "execution_count": null,
   "id": "d725b204",
   "metadata": {},
   "outputs": [],
   "source": [
    "/ https://www.youtube.com/watch?v=DAy2yKSt0fc&t=4s&ab_channel=KX"
   ]
  },
  {
   "cell_type": "markdown",
   "id": "231a1a0d",
   "metadata": {},
   "source": [
    "dates:2018.01.01+100000000?31\n",
    "count dates\n",
    "dates:2018.01.01+10000000?31\n",
    "times:10000000?24:00:00.0000\n",
    "qtys:100*1+10000000?100\n",
    "ixs:10000000?3\n",
    "syms:`aapl`amzn`googl` ixs\n",
    "172.0 1189.0 1073.0 ixs\n",
    "(1+10000000?.03)*172.0 1189.0 1073.0 ixs\n",
    "pxs: (1+10000000?.03)*172.0 1189.0 1073.0 ixs\n",
    "t:([] date:dates;time:times;sym:syms;qty:qtys;price:pxs)"
   ]
  },
  {
   "cell_type": "code",
   "execution_count": 6,
   "id": "cf702038",
   "metadata": {},
   "outputs": [],
   "source": [
    "dates:2018.01.01+10000000?31"
   ]
  },
  {
   "cell_type": "code",
   "execution_count": 8,
   "id": "9068c765",
   "metadata": {},
   "outputs": [
    {
     "data": {
      "text/plain": [
       "10000000\n"
      ]
     },
     "execution_count": 8,
     "metadata": {},
     "output_type": "execute_result"
    }
   ],
   "source": [
    "count dates"
   ]
  },
  {
   "cell_type": "code",
   "execution_count": null,
   "id": "67567c38",
   "metadata": {},
   "outputs": [],
   "source": []
  }
 ],
 "metadata": {
  "kernelspec": {
   "display_name": "Q (kdb+)",
   "language": "q",
   "name": "qpk"
  },
  "language_info": {
   "file_extension": ".q",
   "mimetype": "text/x-q",
   "name": "q",
   "version": "4.0"
  }
 },
 "nbformat": 4,
 "nbformat_minor": 5
}
