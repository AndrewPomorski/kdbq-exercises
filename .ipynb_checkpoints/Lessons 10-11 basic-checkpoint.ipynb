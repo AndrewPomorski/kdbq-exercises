{
 "cells": [
  {
   "cell_type": "code",
   "execution_count": null,
   "id": "ae1e8b71",
   "metadata": {},
   "outputs": [],
   "source": [
    "/ https://www.youtube.com/watch?v=DAy2yKSt0fc&t=4s&ab_channel=KX"
   ]
  },
  {
   "cell_type": "code",
   "execution_count": 6,
   "id": "f8bdc5f9",
   "metadata": {},
   "outputs": [],
   "source": [
    "dates:2018.01.01+10000000?31"
   ]
  },
  {
   "cell_type": "code",
   "execution_count": 8,
   "id": "d4c8eaeb",
   "metadata": {},
   "outputs": [
    {
     "data": {
      "text/plain": [
       "10000000\n"
      ]
     },
     "execution_count": 8,
     "metadata": {},
     "output_type": "execute_result"
    }
   ],
   "source": [
    "count dates"
   ]
  },
  {
   "cell_type": "code",
   "execution_count": 9,
   "id": "acdc1343",
   "metadata": {},
   "outputs": [],
   "source": [
    "times:10000000?24:00:00.0000"
   ]
  },
  {
   "cell_type": "code",
   "execution_count": 10,
   "id": "06c9710e",
   "metadata": {},
   "outputs": [],
   "source": [
    "times:10000000?24:00:00.0000\n",
    "qtys:100*1+10000000?100\n",
    "ixs:10000000?3"
   ]
  },
  {
   "cell_type": "code",
   "execution_count": 11,
   "id": "ca2ea8af",
   "metadata": {},
   "outputs": [],
   "source": [
    "syms:`aapl`amzn`googl` ixs"
   ]
  },
  {
   "cell_type": "code",
   "execution_count": 12,
   "id": "17bba6c7",
   "metadata": {},
   "outputs": [
    {
     "data": {
      "text/plain": [
       "1220.981 175.4489 1101.109 1218.113 1215.885 1199.246 1075.719 1074.019 174.8..\n"
      ]
     },
     "execution_count": 12,
     "metadata": {},
     "output_type": "execute_result"
    }
   ],
   "source": [
    "(1+10000000?.03)*172.0 1189.0 1073.0 ixs"
   ]
  },
  {
   "cell_type": "code",
   "execution_count": 13,
   "id": "976f9dee",
   "metadata": {},
   "outputs": [],
   "source": [
    "pxs: (1+10000000?.03)*172.0 1189.0 1073.0 ixs"
   ]
  },
  {
   "cell_type": "code",
   "execution_count": 14,
   "id": "0a447e34",
   "metadata": {},
   "outputs": [],
   "source": [
    "t:([] date:dates;time:times;sym:syms;qty:qtys;price:pxs)"
   ]
  },
  {
   "cell_type": "code",
   "execution_count": 15,
   "id": "2fe99bfd",
   "metadata": {},
   "outputs": [
    {
     "data": {
      "text/plain": [
       "date       time         sym   qty  price   \n",
       "-------------------------------------------\n",
       "2018.01.03 10:46:08.453 amzn  7100 1189.325\n",
       "2018.01.09 01:32:33.145 aapl  3500 173.3706\n",
       "2018.01.28 18:33:13.798 googl 9100 1083.676\n",
       "2018.01.23 16:41:17.096 amzn  7400 1205.931\n",
       "2018.01.28 08:07:28.008 amzn  3000 1214.446\n",
       "2018.01.11 05:22:46.907 amzn  2100 1195.154\n",
       "2018.01.12 19:45:03.685 googl 2000 1095.716\n",
       "2018.01.02 20:03:27.850 googl 5300 1095.36 \n",
       "2018.01.01 15:17:07.374 aapl  3200 174.3591\n",
       "2018.01.15 10:26:44.197 amzn  7100 1189.754\n",
       "2018.01.30 17:56:40.870 googl 6100 1090.364\n",
       "2018.01.02 21:31:05.245 amzn  9800 1209.968\n",
       "2018.01.21 02:45:16.673 aapl  8500 176.0062\n",
       "2018.01.31 00:56:24.364 amzn  300  1203.776\n",
       "2018.01.06 02:29:00.543 googl 5300 1095.01 \n",
       "2018.01.13 16:43:24.743 googl 500  1093.99 \n",
       "2018.01.08 00:57:10.302 aapl  2800 175.0947\n",
       "2018.01.13 15:27:04.429 amzn  4400 1203.401\n",
       "2018.01.06 05:52:35.872 amzn  4400 1201.613\n",
       "2018.01.06 16:00:41.465 aapl  1800 175.7745\n",
       "..\n"
      ]
     },
     "execution_count": 15,
     "metadata": {},
     "output_type": "execute_result"
    }
   ],
   "source": [
    "t"
   ]
  },
  {
   "cell_type": "code",
   "execution_count": 17,
   "id": "832ec056",
   "metadata": {},
   "outputs": [
    {
     "data": {
      "text/plain": [
       "date       time        | open     close    lo       hi      \n",
       "-----------------------| -----------------------------------\n",
       "2018.01.01 00:00:01.478| 174.8699 174.8699 174.8699 174.8699\n",
       "2018.01.01 00:00:01.759| 173.9678 173.9678 173.9678 173.9678\n",
       "2018.01.01 00:00:03.352| 172.5716 172.5716 172.5716 172.5716\n",
       "2018.01.01 00:00:03.953| 175.1271 175.1271 175.1271 175.1271\n",
       "2018.01.01 00:00:03.998| 172.7057 172.7057 172.7057 172.7057\n"
      ]
     },
     "execution_count": 17,
     "metadata": {},
     "output_type": "execute_result"
    }
   ],
   "source": [
    "5# select open: first price, close: last price, lo: min price, hi: max price by date,time from t where sym=`aapl"
   ]
  },
  {
   "cell_type": "code",
   "execution_count": null,
   "id": "4e8b9cdc",
   "metadata": {},
   "outputs": [],
   "source": []
  }
 ],
 "metadata": {
  "kernelspec": {
   "display_name": "Q (kdb+)",
   "language": "q",
   "name": "qpk"
  },
  "language_info": {
   "file_extension": ".q",
   "mimetype": "text/x-q",
   "name": "q",
   "version": "4.0"
  }
 },
 "nbformat": 4,
 "nbformat_minor": 5
}
