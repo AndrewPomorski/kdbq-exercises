{
 "cells": [
  {
   "cell_type": "code",
   "execution_count": 1,
   "id": "9927bbaa",
   "metadata": {},
   "outputs": [],
   "source": [
    "/ functions https://code.kx.com/q4m3/1_Q_Shock_and_Awe/#110-functions-101\n",
    "x: {[x] x* x}"
   ]
  },
  {
   "cell_type": "code",
   "execution_count": 2,
   "id": "f3c45502",
   "metadata": {},
   "outputs": [
    {
     "data": {
      "text/plain": [
       "16\n"
      ]
     },
     "execution_count": 2,
     "metadata": {},
     "output_type": "execute_result"
    }
   ],
   "source": [
    "x[4]"
   ]
  },
  {
   "cell_type": "code",
   "execution_count": 3,
   "id": "b9425099",
   "metadata": {},
   "outputs": [],
   "source": [
    "pyth:{[x;y] a:x*x; b:y*y; a+b}"
   ]
  },
  {
   "cell_type": "code",
   "execution_count": 4,
   "id": "c812c6c8",
   "metadata": {},
   "outputs": [
    {
     "data": {
      "text/plain": [
       "25\n"
      ]
     },
     "execution_count": 4,
     "metadata": {},
     "output_type": "execute_result"
    }
   ],
   "source": [
    "pyth[3;4]"
   ]
  },
  {
   "cell_type": "code",
   "execution_count": 76,
   "id": "78a3e07a",
   "metadata": {},
   "outputs": [],
   "source": [
    "sq:{x*x}"
   ]
  },
  {
   "cell_type": "code",
   "execution_count": 77,
   "id": "99aa30b1",
   "metadata": {},
   "outputs": [
    {
     "data": {
      "text/plain": [
       "1 4 9 16 25\n"
      ]
     },
     "execution_count": 77,
     "metadata": {},
     "output_type": "execute_result"
    }
   ],
   "source": [
    "1 sq/ 1 2 3 4 5"
   ]
  },
  {
   "cell_type": "code",
   "execution_count": 75,
   "id": "07146ba1",
   "metadata": {},
   "outputs": [
    {
     "data": {
      "text/plain": [
       "1 4 9 16 25\n"
      ]
     },
     "execution_count": 75,
     "metadata": {},
     "output_type": "execute_result"
    }
   ],
   "source": [
    "/apply function to arguments\n",
    "1 {[x] x*x}/ 1 2 3 4 5"
   ]
  },
  {
   "cell_type": "code",
   "execution_count": 7,
   "id": "09a50066",
   "metadata": {},
   "outputs": [
    {
     "data": {
      "text/plain": [
       "25\n"
      ]
     },
     "execution_count": 7,
     "metadata": {},
     "output_type": "execute_result"
    }
   ],
   "source": [
    "f: {x*x}\n",
    "f 5"
   ]
  },
  {
   "cell_type": "code",
   "execution_count": 8,
   "id": "8bf08bc0",
   "metadata": {},
   "outputs": [
    {
     "data": {
      "text/plain": [
       "15\n"
      ]
     },
     "execution_count": 8,
     "metadata": {},
     "output_type": "execute_result"
    }
   ],
   "source": [
    "/add accross the list to a cumulator\n",
    "0 +/ 1 2 3 4 5 "
   ]
  },
  {
   "cell_type": "code",
   "execution_count": 9,
   "id": "b7297a5c",
   "metadata": {},
   "outputs": [
    {
     "data": {
      "text/plain": [
       "10\n"
      ]
     },
     "execution_count": 9,
     "metadata": {},
     "output_type": "execute_result"
    }
   ],
   "source": [
    "/ get max val\n",
    "(|/) 1 2 3 10 4 3"
   ]
  },
  {
   "cell_type": "code",
   "execution_count": 10,
   "id": "ab4215ea",
   "metadata": {},
   "outputs": [
    {
     "data": {
      "text/plain": [
       "1\n"
      ]
     },
     "execution_count": 10,
     "metadata": {},
     "output_type": "execute_result"
    }
   ],
   "source": [
    "/ get min val\n",
    "(&/) 1 2 3 10"
   ]
  },
  {
   "cell_type": "code",
   "execution_count": 22,
   "id": "7546368e",
   "metadata": {},
   "outputs": [
    {
     "data": {
      "text/plain": [
       "15\n"
      ]
     },
     "execution_count": 22,
     "metadata": {},
     "output_type": "execute_result"
    }
   ],
   "source": [
    "/apply a function over a list\n",
    "0 {x+y}/ 1 2 3 4 5"
   ]
  },
  {
   "cell_type": "code",
   "execution_count": 24,
   "id": "816b91eb",
   "metadata": {},
   "outputs": [
    {
     "data": {
      "text/plain": [
       "15\n"
      ]
     },
     "execution_count": 24,
     "metadata": {},
     "output_type": "execute_result"
    }
   ],
   "source": [
    "0 {x+y}/ 1 2 3 4 5"
   ]
  },
  {
   "cell_type": "code",
   "execution_count": 26,
   "id": "ab8da999",
   "metadata": {},
   "outputs": [
    {
     "data": {
      "text/plain": [
       "15\n"
      ]
     },
     "execution_count": 26,
     "metadata": {},
     "output_type": "execute_result"
    }
   ],
   "source": [
    "(+/) 1+til 5"
   ]
  },
  {
   "cell_type": "code",
   "execution_count": 29,
   "id": "2e370bee",
   "metadata": {},
   "outputs": [
    {
     "data": {
      "text/plain": [
       "1 3 6 10 15 21 28 36 45 55\n"
      ]
     },
     "execution_count": 29,
     "metadata": {},
     "output_type": "execute_result"
    }
   ],
   "source": [
    "/ scan returns list of same length as input\n",
    "(+\\) 1+til 10"
   ]
  },
  {
   "cell_type": "code",
   "execution_count": 30,
   "id": "0e951133",
   "metadata": {},
   "outputs": [],
   "source": [
    "F0:1 1"
   ]
  },
  {
   "cell_type": "code",
   "execution_count": 31,
   "id": "0bfcee59",
   "metadata": {},
   "outputs": [
    {
     "data": {
      "text/plain": [
       "1 1\n"
      ]
     },
     "execution_count": 31,
     "metadata": {},
     "output_type": "execute_result"
    }
   ],
   "source": [
    "-2#F0"
   ]
  },
  {
   "cell_type": "code",
   "execution_count": 32,
   "id": "4e4f9350",
   "metadata": {},
   "outputs": [],
   "source": [
    "F0: 1 1 "
   ]
  },
  {
   "cell_type": "code",
   "execution_count": 33,
   "id": "361ef28f",
   "metadata": {},
   "outputs": [
    {
     "data": {
      "text/plain": [
       "1 1\n"
      ]
     },
     "execution_count": 33,
     "metadata": {},
     "output_type": "execute_result"
    }
   ],
   "source": [
    "-2#F0"
   ]
  },
  {
   "cell_type": "code",
   "execution_count": 34,
   "id": "0d2c0384",
   "metadata": {},
   "outputs": [],
   "source": [
    "F1: 1 1 2 3 5"
   ]
  },
  {
   "cell_type": "code",
   "execution_count": 35,
   "id": "6e131c1b",
   "metadata": {},
   "outputs": [
    {
     "data": {
      "text/plain": [
       "3 5\n"
      ]
     },
     "execution_count": 35,
     "metadata": {},
     "output_type": "execute_result"
    }
   ],
   "source": [
    "-2#F1"
   ]
  },
  {
   "cell_type": "code",
   "execution_count": 36,
   "id": "4682b965",
   "metadata": {},
   "outputs": [
    {
     "data": {
      "text/plain": [
       "2\n"
      ]
     },
     "execution_count": 36,
     "metadata": {},
     "output_type": "execute_result"
    }
   ],
   "source": [
    "sum -2#F0"
   ]
  },
  {
   "cell_type": "code",
   "execution_count": 41,
   "id": "70972926",
   "metadata": {},
   "outputs": [
    {
     "data": {
      "text/plain": [
       "1 1 2\n"
      ]
     },
     "execution_count": 41,
     "metadata": {},
     "output_type": "execute_result"
    }
   ],
   "source": [
    "F0, sum -2#F0"
   ]
  },
  {
   "cell_type": "code",
   "execution_count": 50,
   "id": "a21ca32c",
   "metadata": {},
   "outputs": [],
   "source": [
    "/ take x as a param, take last two values of x, sum them\n",
    "fib:{x, sum -2#x}"
   ]
  },
  {
   "cell_type": "code",
   "execution_count": 46,
   "id": "194ae8eb",
   "metadata": {},
   "outputs": [
    {
     "data": {
      "text/plain": [
       "1 1 2\n"
      ]
     },
     "execution_count": 46,
     "metadata": {},
     "output_type": "execute_result"
    }
   ],
   "source": [
    "fib [1 1]"
   ]
  },
  {
   "cell_type": "code",
   "execution_count": 47,
   "id": "17f077ea",
   "metadata": {},
   "outputs": [
    {
     "data": {
      "text/plain": [
       "1 1 2 3\n"
      ]
     },
     "execution_count": 47,
     "metadata": {},
     "output_type": "execute_result"
    }
   ],
   "source": [
    "fib [1 1 2]"
   ]
  },
  {
   "cell_type": "code",
   "execution_count": 59,
   "id": "73931603",
   "metadata": {},
   "outputs": [
    {
     "data": {
      "text/plain": [
       "1 2 3 5 8 13 21 34 55 89 144 233 377 610 987 1597\n"
      ]
     },
     "execution_count": 59,
     "metadata": {},
     "output_type": "execute_result"
    }
   ],
   "source": [
    "/ an overload of the over operator\n",
    "15 fib/1"
   ]
  },
  {
   "cell_type": "code",
   "execution_count": 68,
   "id": "2214ed44",
   "metadata": {},
   "outputs": [
    {
     "data": {
      "text/plain": [
       "1 2 3 5 8 13 21 34 55 89 144\n"
      ]
     },
     "execution_count": 68,
     "metadata": {},
     "output_type": "execute_result"
    }
   ],
   "source": [
    "10 {x,sum -2#x}/ 1"
   ]
  },
  {
   "cell_type": "markdown",
   "id": "adead771",
   "metadata": {},
   "source": [
    "### Newtonian method for nth roots"
   ]
  },
  {
   "cell_type": "code",
   "execution_count": 79,
   "id": "12c20bf9",
   "metadata": {},
   "outputs": [],
   "source": [
    "/ zero is the base case for approximation\n",
    "x0:1.0"
   ]
  },
  {
   "cell_type": "code",
   "execution_count": 81,
   "id": "587e89d2",
   "metadata": {},
   "outputs": [
    {
     "data": {
      "text/plain": [
       "1.5\n"
      ]
     },
     "execution_count": 81,
     "metadata": {},
     "output_type": "execute_result"
    }
   ],
   "source": [
    "/ Inductive step: Given xn, the n+1st approximation is: xn – f(xn) / f'(xn)\n",
    "x0-((x0*x0)-2)%2*x0"
   ]
  },
  {
   "cell_type": "code",
   "execution_count": 82,
   "id": "e31bc85f",
   "metadata": {},
   "outputs": [
    {
     "data": {
      "text/plain": [
       "1.414214\n"
      ]
     },
     "execution_count": 82,
     "metadata": {},
     "output_type": "execute_result"
    }
   ],
   "source": [
    "{[xn] xn-((xn*xn)-2)%2*xn}/[1.5]"
   ]
  },
  {
   "cell_type": "code",
   "execution_count": 148,
   "id": "2d5bbd67",
   "metadata": {},
   "outputs": [],
   "source": [
    "/ set display of floating points up to 17th decimal\n",
    "\\P 1"
   ]
  },
  {
   "cell_type": "code",
   "execution_count": 87,
   "id": "561bf29f",
   "metadata": {},
   "outputs": [
    {
     "data": {
      "text/plain": [
       "1 1.5 1.4166666666666667 1.4142156862745099 1.4142135623746899 1.414213562373..\n"
      ]
     },
     "execution_count": 87,
     "metadata": {},
     "output_type": "execute_result"
    }
   ],
   "source": [
    "/ scan so that we can see the intermediate results\n",
    "{[xn] xn-((xn*xn)-2)%2*xn}\\[1.0]"
   ]
  },
  {
   "cell_type": "code",
   "execution_count": 88,
   "id": "1ccfeb4a",
   "metadata": {},
   "outputs": [
    {
     "data": {
      "text/plain": [
       "{[c; xn] xn-((xn*xn)-c)%2*xn}\n"
      ]
     },
     "execution_count": 88,
     "metadata": {},
     "output_type": "execute_result"
    }
   ],
   "source": [
    "{[c; xn] xn-((xn*xn)-c)%2*xn}"
   ]
  },
  {
   "cell_type": "code",
   "execution_count": 89,
   "id": "e716a5ac",
   "metadata": {},
   "outputs": [
    {
     "data": {
      "text/plain": [
       "{[x;xn] xn-((xn*xn)-c)%2*xn}\n"
      ]
     },
     "execution_count": 89,
     "metadata": {},
     "output_type": "execute_result"
    }
   ],
   "source": [
    "{[x;xn] xn-((xn*xn)-c)%2*xn}"
   ]
  },
  {
   "cell_type": "code",
   "execution_count": 90,
   "id": "e88ac01c",
   "metadata": {},
   "outputs": [],
   "source": [
    "buys: 2 1 4 3 5f"
   ]
  },
  {
   "cell_type": "code",
   "execution_count": 91,
   "id": "93eab36a",
   "metadata": {},
   "outputs": [],
   "source": [
    "sells: 12f"
   ]
  },
  {
   "cell_type": "code",
   "execution_count": 92,
   "id": "349ae9b4",
   "metadata": {},
   "outputs": [
    {
     "data": {
      "text/plain": [
       "2 3 7 10 15f\n"
      ]
     },
     "execution_count": 92,
     "metadata": {},
     "output_type": "execute_result"
    }
   ],
   "source": [
    "sums buys"
   ]
  },
  {
   "cell_type": "code",
   "execution_count": 93,
   "id": "2a6f5513",
   "metadata": {},
   "outputs": [
    {
     "data": {
      "text/plain": [
       "2 3 7 10 12f\n"
      ]
     },
     "execution_count": 93,
     "metadata": {},
     "output_type": "execute_result"
    }
   ],
   "source": [
    "sells&sums buys"
   ]
  },
  {
   "cell_type": "code",
   "execution_count": 94,
   "id": "a6aea8e2",
   "metadata": {},
   "outputs": [
    {
     "data": {
      "text/plain": [
       "1 1 1 1 1\n"
      ]
     },
     "execution_count": 94,
     "metadata": {},
     "output_type": "execute_result"
    }
   ],
   "source": [
    "deltas 1 2 3 4 5"
   ]
  },
  {
   "cell_type": "code",
   "execution_count": 95,
   "id": "765dffc9",
   "metadata": {},
   "outputs": [
    {
     "data": {
      "text/plain": [
       "10 10 10 10\n"
      ]
     },
     "execution_count": 95,
     "metadata": {},
     "output_type": "execute_result"
    }
   ],
   "source": [
    "deltas 10 20 30 40 "
   ]
  },
  {
   "cell_type": "code",
   "execution_count": 96,
   "id": "abb40e42",
   "metadata": {},
   "outputs": [
    {
     "data": {
      "text/plain": [
       "2 1 4 3 2f\n"
      ]
     },
     "execution_count": 96,
     "metadata": {},
     "output_type": "execute_result"
    }
   ],
   "source": [
    "deltas sells&sums buys"
   ]
  },
  {
   "cell_type": "code",
   "execution_count": 97,
   "id": "37a872df",
   "metadata": {},
   "outputs": [],
   "source": [
    "buys:2 1 4 3 5 4f\n",
    "sells:2 4 3 2\n",
    "/allocations"
   ]
  },
  {
   "cell_type": "code",
   "execution_count": 98,
   "id": "30a24131",
   "metadata": {},
   "outputs": [
    {
     "data": {
      "text/plain": [
       "2 3 7 10 15 19f\n"
      ]
     },
     "execution_count": 98,
     "metadata": {},
     "output_type": "execute_result"
    }
   ],
   "source": [
    "sums[buys]"
   ]
  },
  {
   "cell_type": "code",
   "execution_count": 99,
   "id": "0ca1f691",
   "metadata": {},
   "outputs": [
    {
     "data": {
      "text/plain": [
       "2 6 9 11\n"
      ]
     },
     "execution_count": 99,
     "metadata": {},
     "output_type": "execute_result"
    }
   ],
   "source": [
    "sums[sells]"
   ]
  },
  {
   "cell_type": "code",
   "execution_count": 100,
   "id": "c2d2effc",
   "metadata": {},
   "outputs": [
    {
     "data": {
      "text/plain": [
       "2 2 2 2 2 2f\n"
      ]
     },
     "execution_count": 100,
     "metadata": {},
     "output_type": "execute_result"
    }
   ],
   "source": [
    "2&sums[buys]"
   ]
  },
  {
   "cell_type": "code",
   "execution_count": 103,
   "id": "de0888bf",
   "metadata": {},
   "outputs": [
    {
     "data": {
      "text/plain": [
       "2 3 6 6 6 6f\n"
      ]
     },
     "execution_count": 103,
     "metadata": {},
     "output_type": "execute_result"
    }
   ],
   "source": [
    "6&sums[buys]"
   ]
  },
  {
   "cell_type": "code",
   "execution_count": 104,
   "id": "406a77ce",
   "metadata": {},
   "outputs": [
    {
     "data": {
      "text/plain": [
       "2 3 7 9 9 9f\n"
      ]
     },
     "execution_count": 104,
     "metadata": {},
     "output_type": "execute_result"
    }
   ],
   "source": [
    "9&sums[buys]"
   ]
  },
  {
   "cell_type": "code",
   "execution_count": 105,
   "id": "67378e74",
   "metadata": {},
   "outputs": [
    {
     "data": {
      "text/plain": [
       "2 3 7 10 11 11f\n"
      ]
     },
     "execution_count": 105,
     "metadata": {},
     "output_type": "execute_result"
    }
   ],
   "source": [
    "11&sums[buys]"
   ]
  },
  {
   "cell_type": "code",
   "execution_count": 108,
   "id": "d128b701",
   "metadata": {},
   "outputs": [
    {
     "data": {
      "text/plain": [
       "2 2 2 2 2 2\n",
       "0 1 4 4 4 4\n",
       "0 0 1 3 3 3\n",
       "0 0 0 1 2 2\n"
      ]
     },
     "execution_count": 108,
     "metadata": {},
     "output_type": "execute_result"
    }
   ],
   "source": [
    "deltas sums[sells]&\\:sums[buys]"
   ]
  },
  {
   "cell_type": "code",
   "execution_count": 112,
   "id": "b2632611",
   "metadata": {},
   "outputs": [
    {
     "data": {
      "text/plain": [
       "1 2 3\n",
       "10 20\n"
      ]
     },
     "execution_count": 112,
     "metadata": {},
     "output_type": "execute_result"
    }
   ],
   "source": [
    "/ each applies a function to every item of the list - this list has two items (two arrays)\n",
    "(1 2 3; 10 20)"
   ]
  },
  {
   "cell_type": "code",
   "execution_count": 113,
   "id": "24910cd8",
   "metadata": {},
   "outputs": [
    {
     "data": {
      "text/plain": [
       "2\n"
      ]
     },
     "execution_count": 113,
     "metadata": {},
     "output_type": "execute_result"
    }
   ],
   "source": [
    "count(1 2 3; 10 20)"
   ]
  },
  {
   "cell_type": "code",
   "execution_count": 114,
   "id": "c9a5b8b4",
   "metadata": {},
   "outputs": [
    {
     "data": {
      "text/plain": [
       "3 2\n"
      ]
     },
     "execution_count": 114,
     "metadata": {},
     "output_type": "execute_result"
    }
   ],
   "source": [
    "count each (1 2 3; 10 20)"
   ]
  },
  {
   "cell_type": "code",
   "execution_count": 116,
   "id": "1823aa8c",
   "metadata": {},
   "outputs": [
    {
     "data": {
      "text/plain": [
       "2 0 0 0 0 0\n",
       "0 1 3 0 0 0\n",
       "0 0 1 2 0 0\n",
       "0 0 0 1 1 0\n"
      ]
     },
     "execution_count": 116,
     "metadata": {},
     "output_type": "execute_result"
    }
   ],
   "source": [
    "deltas each deltas sums[sells]&\\:sums[buys]"
   ]
  },
  {
   "cell_type": "markdown",
   "id": "c293603c",
   "metadata": {},
   "source": [
    "## Dictionaries"
   ]
  },
  {
   "cell_type": "code",
   "execution_count": 117,
   "id": "c2e9b120",
   "metadata": {},
   "outputs": [
    {
     "data": {
      "text/plain": [
       "a| 10\n",
       "b| 20\n",
       "c| 30\n"
      ]
     },
     "execution_count": 117,
     "metadata": {},
     "output_type": "execute_result"
    }
   ],
   "source": [
    "/make dictionaries by two lists of the same len\n",
    "`a`b`c!10 20 30"
   ]
  },
  {
   "cell_type": "code",
   "execution_count": 119,
   "id": "580a1725",
   "metadata": {},
   "outputs": [],
   "source": [
    "d:`a`b`c!10 20 30"
   ]
  },
  {
   "cell_type": "code",
   "execution_count": 121,
   "id": "8d00c2ea",
   "metadata": {},
   "outputs": [
    {
     "data": {
      "text/plain": [
       "10\n"
      ]
     },
     "execution_count": 121,
     "metadata": {},
     "output_type": "execute_result"
    }
   ],
   "source": [
    "d[`a]"
   ]
  },
  {
   "cell_type": "code",
   "execution_count": 124,
   "id": "f4dda667",
   "metadata": {},
   "outputs": [],
   "source": [
    "/column dictionary holds values of uniform length\n",
    "dc:`a`b!(10 20 30; 40 50 60)"
   ]
  },
  {
   "cell_type": "code",
   "execution_count": 125,
   "id": "9f32eefa",
   "metadata": {},
   "outputs": [
    {
     "data": {
      "text/plain": [
       "a| 10 20 30\n",
       "b| 40 50 60\n"
      ]
     },
     "execution_count": 125,
     "metadata": {},
     "output_type": "execute_result"
    }
   ],
   "source": [
    "dc"
   ]
  },
  {
   "cell_type": "code",
   "execution_count": 127,
   "id": "7152686a",
   "metadata": {},
   "outputs": [
    {
     "data": {
      "text/plain": [
       "10\n"
      ]
     },
     "execution_count": 127,
     "metadata": {},
     "output_type": "execute_result"
    }
   ],
   "source": [
    "/columns can be indexed too\n",
    "dc[`a][0]"
   ]
  },
  {
   "cell_type": "code",
   "execution_count": 129,
   "id": "3777bd83",
   "metadata": {},
   "outputs": [
    {
     "data": {
      "text/plain": [
       "10\n"
      ]
     },
     "execution_count": 129,
     "metadata": {},
     "output_type": "execute_result"
    }
   ],
   "source": [
    "/indexing at depth\n",
    "dc[`a;0]"
   ]
  },
  {
   "cell_type": "code",
   "execution_count": 130,
   "id": "b3e8f0d4",
   "metadata": {},
   "outputs": [
    {
     "data": {
      "text/plain": [
       "10 20 30\n"
      ]
     },
     "execution_count": 130,
     "metadata": {},
     "output_type": "execute_result"
    }
   ],
   "source": [
    "dc[`a;]"
   ]
  },
  {
   "cell_type": "code",
   "execution_count": 131,
   "id": "975fef9b",
   "metadata": {},
   "outputs": [
    {
     "data": {
      "text/plain": [
       "a| 10\n",
       "b| 40\n"
      ]
     },
     "execution_count": 131,
     "metadata": {},
     "output_type": "execute_result"
    }
   ],
   "source": [
    "dc[;0]"
   ]
  },
  {
   "cell_type": "code",
   "execution_count": 132,
   "id": "9ec21631",
   "metadata": {},
   "outputs": [
    {
     "data": {
      "text/plain": [
       "a| 20\n",
       "b| 50\n"
      ]
     },
     "execution_count": 132,
     "metadata": {},
     "output_type": "execute_result"
    }
   ],
   "source": [
    "dc[;1]"
   ]
  },
  {
   "cell_type": "code",
   "execution_count": 138,
   "id": "d1fd1c18",
   "metadata": {},
   "outputs": [],
   "source": [
    "/ you can flip the accessors (transpose)\n",
    "t:flip `c1`c2!(10 20 30; 40 50 60)"
   ]
  },
  {
   "cell_type": "code",
   "execution_count": 140,
   "id": "daca7752",
   "metadata": {},
   "outputs": [
    {
     "data": {
      "text/plain": [
       "10\n"
      ]
     },
     "execution_count": 140,
     "metadata": {},
     "output_type": "execute_result"
    }
   ],
   "source": [
    "t[0;`c1]"
   ]
  },
  {
   "cell_type": "code",
   "execution_count": 141,
   "id": "eaafb143",
   "metadata": {},
   "outputs": [
    {
     "data": {
      "text/plain": [
       "20\n"
      ]
     },
     "execution_count": 141,
     "metadata": {},
     "output_type": "execute_result"
    }
   ],
   "source": [
    "t[1;`c1]"
   ]
  },
  {
   "cell_type": "code",
   "execution_count": 142,
   "id": "fd34c245",
   "metadata": {},
   "outputs": [
    {
     "data": {
      "text/plain": [
       "10 20 30\n"
      ]
     },
     "execution_count": 142,
     "metadata": {},
     "output_type": "execute_result"
    }
   ],
   "source": [
    "t[;`c1]"
   ]
  },
  {
   "cell_type": "code",
   "execution_count": 143,
   "id": "a2943b70",
   "metadata": {},
   "outputs": [
    {
     "data": {
      "text/plain": [
       "c1| 10\n",
       "c2| 40\n"
      ]
     },
     "execution_count": 143,
     "metadata": {},
     "output_type": "execute_result"
    }
   ],
   "source": [
    "t[0;]"
   ]
  },
  {
   "cell_type": "code",
   "execution_count": 144,
   "id": "5bffc691",
   "metadata": {},
   "outputs": [
    {
     "data": {
      "text/plain": [
       "c1 c2\n",
       "-----\n",
       "10 40\n",
       "20 50\n",
       "30 60\n"
      ]
     },
     "execution_count": 144,
     "metadata": {},
     "output_type": "execute_result"
    }
   ],
   "source": [
    "t"
   ]
  },
  {
   "cell_type": "code",
   "execution_count": 146,
   "id": "133babff",
   "metadata": {},
   "outputs": [
    {
     "data": {
      "text/plain": [
       "40\n"
      ]
     },
     "execution_count": 146,
     "metadata": {},
     "output_type": "execute_result"
    }
   ],
   "source": [
    "t[0;`c2]"
   ]
  },
  {
   "cell_type": "code",
   "execution_count": 1,
   "id": "2a38d5cf",
   "metadata": {},
   "outputs": [
    {
     "data": {
      "text/plain": [
       "c1 c2 \n",
       "------\n",
       "1  1.1\n",
       "2  2.2\n",
       "3  3.3\n",
       "4  4.4\n",
       "5  5.5\n"
      ]
     },
     "execution_count": 1,
     "metadata": {},
     "output_type": "execute_result"
    }
   ],
   "source": [
    "([] c1: 1 2 3 4 5; c2: 1.1 2.2 3.3 4.4 5.5)"
   ]
  },
  {
   "cell_type": "code",
   "execution_count": 2,
   "id": "a1a87de7",
   "metadata": {},
   "outputs": [],
   "source": [
    "t:([]c1:100+til 6;c2:`a`b`c`a`b`a;c3:10*1+til 6)"
   ]
  },
  {
   "cell_type": "code",
   "execution_count": 5,
   "id": "c8cb8996",
   "metadata": {},
   "outputs": [
    {
     "data": {
      "text/plain": [
       "c1  c2 c3\n",
       "---------\n",
       "100 a  10\n",
       "103 a  40\n",
       "105 a  60\n"
      ]
     },
     "execution_count": 5,
     "metadata": {},
     "output_type": "execute_result"
    }
   ],
   "source": [
    "select from t where c2=`a"
   ]
  },
  {
   "cell_type": "code",
   "execution_count": 6,
   "id": "ff08869c",
   "metadata": {},
   "outputs": [
    {
     "data": {
      "text/plain": [
       "c1  c2 c3\n",
       "---------\n",
       "100 a  10\n",
       "101 b  20\n",
       "102 c  30\n",
       "103 a  40\n",
       "104 b  50\n",
       "105 a  60\n"
      ]
     },
     "execution_count": 6,
     "metadata": {},
     "output_type": "execute_result"
    }
   ],
   "source": [
    "select from t"
   ]
  },
  {
   "cell_type": "code",
   "execution_count": 9,
   "id": "e1a9a537",
   "metadata": {},
   "outputs": [
    {
     "data": {
      "text/plain": [
       "c1  val\n",
       "-------\n",
       "100 30 \n",
       "101 60 \n",
       "102 90 \n",
       "103 120\n",
       "104 150\n",
       "105 180\n"
      ]
     },
     "execution_count": 9,
     "metadata": {},
     "output_type": "execute_result"
    }
   ],
   "source": [
    "select c1, val:3*c3 from t"
   ]
  },
  {
   "cell_type": "code",
   "execution_count": null,
   "id": "476f08d5",
   "metadata": {},
   "outputs": [],
   "source": []
  }
 ],
 "metadata": {
  "kernelspec": {
   "display_name": "Q (kdb+)",
   "language": "q",
   "name": "qpk"
  },
  "language_info": {
   "file_extension": ".q",
   "mimetype": "text/x-q",
   "name": "q",
   "version": "4.0"
  }
 },
 "nbformat": 4,
 "nbformat_minor": 5
}
