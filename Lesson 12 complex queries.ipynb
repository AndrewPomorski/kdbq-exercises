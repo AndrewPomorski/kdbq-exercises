{
 "cells": [
  {
   "cell_type": "code",
   "execution_count": 1,
   "id": "1bee4757",
   "metadata": {},
   "outputs": [
    {
     "data": {
      "text/plain": [
       "1080.679 172.5521 1211.08 1104.971 1097.452 1193.656 175.9138 1087.95 172.029..\n"
      ]
     },
     "execution_count": 1,
     "metadata": {},
     "output_type": "execute_result"
    }
   ],
   "source": [
    "/basic mock table setup\n",
    "dates:2018.01.01+10000000?31\n",
    "times:10000000?24:00:00.0000\n",
    "qtys:100*1+10000000?100\n",
    "ixs:10000000?3\n",
    "syms:`aapl`amzn`googl` ixs\n",
    "(1+10000000?.03)*172.0 1189.0 1073.0 ixs\n",
    "pxs: (1+10000000?.03)*172.0 1189.0 1073.0 ixs\n",
    "t:([] date:dates;time:times;sym:syms;qty:qtys;price:pxs)"
   ]
  },
  {
   "cell_type": "code",
   "execution_count": 4,
   "id": "eeca255e",
   "metadata": {},
   "outputs": [
    {
     "data": {
      "text/plain": [
       "price   \n",
       "--------\n",
       "5.159995\n"
      ]
     },
     "execution_count": 4,
     "metadata": {},
     "output_type": "execute_result"
    }
   ],
   "source": [
    "select max price - mins price from t where sym=`aapl"
   ]
  },
  {
   "cell_type": "code",
   "execution_count": null,
   "id": "3f1a4fea",
   "metadata": {},
   "outputs": [],
   "source": []
  }
 ],
 "metadata": {
  "kernelspec": {
   "display_name": "Q (kdb+)",
   "language": "q",
   "name": "qpk"
  },
  "language_info": {
   "file_extension": ".q",
   "mimetype": "text/x-q",
   "name": "q",
   "version": "4.0"
  }
 },
 "nbformat": 4,
 "nbformat_minor": 5
}
