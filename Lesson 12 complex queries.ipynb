{
 "cells": [
  {
   "cell_type": "code",
   "execution_count": 7,
   "id": "f78a81a8",
   "metadata": {},
   "outputs": [
    {
     "data": {
      "text/plain": [
       "1199.964 175.1673 1083.027 1222.102 1215.455 1095.842 174.1973 173.2153 1194...\n"
      ]
     },
     "execution_count": 7,
     "metadata": {},
     "output_type": "execute_result"
    }
   ],
   "source": [
    "/basic mock table setup\n",
    "dates:2018.01.01+10000000?31\n",
    "times:10000000?24:00:00.0000\n",
    "qtys:100*1+10000000?100\n",
    "ixs:10000000?3\n",
    "syms:`aapl`amzn`googl` ixs\n",
    "(1+10000000?.03)*172.0 1189.0 1073.0 ixs\n",
    "pxs: (1+10000000?.03)*172.0 1189.0 1073.0 ixs\n",
    "t:([] date:dates;time:times;sym:syms;qty:qtys;price:pxs)"
   ]
  },
  {
   "cell_type": "code",
   "execution_count": 8,
   "id": "05676cb1",
   "metadata": {},
   "outputs": [
    {
     "data": {
      "text/plain": [
       "price   \n",
       "--------\n",
       "5.159998\n"
      ]
     },
     "execution_count": 8,
     "metadata": {},
     "output_type": "execute_result"
    }
   ],
   "source": [
    "/calculate maximum idealised profit.\n",
    "select max price - mins price from t where sym=`aapl"
   ]
  },
  {
   "cell_type": "code",
   "execution_count": null,
   "id": "e340bd91",
   "metadata": {},
   "outputs": [],
   "source": []
  }
 ],
 "metadata": {
  "kernelspec": {
   "display_name": "Q (kdb+)",
   "language": "q",
   "name": "qpk"
  },
  "language_info": {
   "file_extension": ".q",
   "mimetype": "text/x-q",
   "name": "q",
   "version": "4.0"
  }
 },
 "nbformat": 4,
 "nbformat_minor": 5
}
