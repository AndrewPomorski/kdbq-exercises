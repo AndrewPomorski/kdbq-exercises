{
 "cells": [
  {
   "cell_type": "code",
   "execution_count": 1,
   "id": "0d7e2adf",
   "metadata": {},
   "outputs": [],
   "source": [
    "/ functions\n",
    "x: {[x] x* x}"
   ]
  },
  {
   "cell_type": "code",
   "execution_count": 2,
   "id": "5ab4b8d1",
   "metadata": {},
   "outputs": [
    {
     "data": {
      "text/plain": [
       "16\n"
      ]
     },
     "execution_count": 2,
     "metadata": {},
     "output_type": "execute_result"
    }
   ],
   "source": [
    "x[4]"
   ]
  },
  {
   "cell_type": "code",
   "execution_count": 3,
   "id": "f400ac84",
   "metadata": {},
   "outputs": [],
   "source": [
    "pyth:{[x;y] a:x*x; b:y*y; a+b}"
   ]
  },
  {
   "cell_type": "code",
   "execution_count": 4,
   "id": "406dff8b",
   "metadata": {},
   "outputs": [
    {
     "data": {
      "text/plain": [
       "25\n"
      ]
     },
     "execution_count": 4,
     "metadata": {},
     "output_type": "execute_result"
    }
   ],
   "source": [
    "pyth[3;4]"
   ]
  },
  {
   "cell_type": "code",
   "execution_count": 6,
   "id": "6594bfa4",
   "metadata": {},
   "outputs": [
    {
     "data": {
      "text/plain": [
       "25\n"
      ]
     },
     "execution_count": 6,
     "metadata": {},
     "output_type": "execute_result"
    }
   ],
   "source": [
    "/apply function to arguments\n",
    "{[x] x * x}[5]"
   ]
  },
  {
   "cell_type": "code",
   "execution_count": 7,
   "id": "e4eccb81",
   "metadata": {},
   "outputs": [
    {
     "data": {
      "text/plain": [
       "25\n"
      ]
     },
     "execution_count": 7,
     "metadata": {},
     "output_type": "execute_result"
    }
   ],
   "source": [
    "f: {x*x}\n",
    "f 5"
   ]
  },
  {
   "cell_type": "code",
   "execution_count": 8,
   "id": "b2c88bf6",
   "metadata": {},
   "outputs": [
    {
     "data": {
      "text/plain": [
       "15\n"
      ]
     },
     "execution_count": 8,
     "metadata": {},
     "output_type": "execute_result"
    }
   ],
   "source": [
    "/add accross the list to a cumulator\n",
    "0 +/ 1 2 3 4 5 "
   ]
  },
  {
   "cell_type": "code",
   "execution_count": 9,
   "id": "266f0f57",
   "metadata": {},
   "outputs": [
    {
     "data": {
      "text/plain": [
       "10\n"
      ]
     },
     "execution_count": 9,
     "metadata": {},
     "output_type": "execute_result"
    }
   ],
   "source": [
    "/ get max val\n",
    "(|/) 1 2 3 10 4 3"
   ]
  },
  {
   "cell_type": "code",
   "execution_count": 10,
   "id": "f66851ec",
   "metadata": {},
   "outputs": [
    {
     "data": {
      "text/plain": [
       "1\n"
      ]
     },
     "execution_count": 10,
     "metadata": {},
     "output_type": "execute_result"
    }
   ],
   "source": [
    "/ get min val\n",
    "(&/) 1 2 3 10"
   ]
  },
  {
   "cell_type": "code",
   "execution_count": null,
   "id": "7886b85a",
   "metadata": {},
   "outputs": [],
   "source": []
  }
 ],
 "metadata": {
  "kernelspec": {
   "display_name": "Q (kdb+)",
   "language": "q",
   "name": "qpk"
  },
  "language_info": {
   "file_extension": ".q",
   "mimetype": "text/x-q",
   "name": "q",
   "version": "4.0"
  }
 },
 "nbformat": 4,
 "nbformat_minor": 5
}
