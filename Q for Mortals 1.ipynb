{
 "cells": [
  {
   "cell_type": "code",
   "execution_count": 1,
   "id": "29dc1713",
   "metadata": {},
   "outputs": [],
   "source": [
    "/ functions https://code.kx.com/q4m3/1_Q_Shock_and_Awe/#110-functions-101\n",
    "x: {[x] x* x}"
   ]
  },
  {
   "cell_type": "code",
   "execution_count": 2,
   "id": "36e785e4",
   "metadata": {},
   "outputs": [
    {
     "data": {
      "text/plain": [
       "16\n"
      ]
     },
     "execution_count": 2,
     "metadata": {},
     "output_type": "execute_result"
    }
   ],
   "source": [
    "x[4]"
   ]
  },
  {
   "cell_type": "code",
   "execution_count": 3,
   "id": "96683a04",
   "metadata": {},
   "outputs": [],
   "source": [
    "pyth:{[x;y] a:x*x; b:y*y; a+b}"
   ]
  },
  {
   "cell_type": "code",
   "execution_count": 4,
   "id": "a1b8785a",
   "metadata": {},
   "outputs": [
    {
     "data": {
      "text/plain": [
       "25\n"
      ]
     },
     "execution_count": 4,
     "metadata": {},
     "output_type": "execute_result"
    }
   ],
   "source": [
    "pyth[3;4]"
   ]
  },
  {
   "cell_type": "code",
   "execution_count": 76,
   "id": "ff23e841",
   "metadata": {},
   "outputs": [],
   "source": [
    "sq:{x*x}"
   ]
  },
  {
   "cell_type": "code",
   "execution_count": 77,
   "id": "228b587b",
   "metadata": {},
   "outputs": [
    {
     "data": {
      "text/plain": [
       "1 4 9 16 25\n"
      ]
     },
     "execution_count": 77,
     "metadata": {},
     "output_type": "execute_result"
    }
   ],
   "source": [
    "1 sq/ 1 2 3 4 5"
   ]
  },
  {
   "cell_type": "code",
   "execution_count": 75,
   "id": "d27c7f74",
   "metadata": {},
   "outputs": [
    {
     "data": {
      "text/plain": [
       "1 4 9 16 25\n"
      ]
     },
     "execution_count": 75,
     "metadata": {},
     "output_type": "execute_result"
    }
   ],
   "source": [
    "/apply function to arguments\n",
    "1 {[x] x*x}/ 1 2 3 4 5"
   ]
  },
  {
   "cell_type": "code",
   "execution_count": 7,
   "id": "d7c7c257",
   "metadata": {},
   "outputs": [
    {
     "data": {
      "text/plain": [
       "25\n"
      ]
     },
     "execution_count": 7,
     "metadata": {},
     "output_type": "execute_result"
    }
   ],
   "source": [
    "f: {x*x}\n",
    "f 5"
   ]
  },
  {
   "cell_type": "code",
   "execution_count": 8,
   "id": "b99ac873",
   "metadata": {},
   "outputs": [
    {
     "data": {
      "text/plain": [
       "15\n"
      ]
     },
     "execution_count": 8,
     "metadata": {},
     "output_type": "execute_result"
    }
   ],
   "source": [
    "/add accross the list to a cumulator\n",
    "0 +/ 1 2 3 4 5 "
   ]
  },
  {
   "cell_type": "code",
   "execution_count": 9,
   "id": "db5c87b9",
   "metadata": {},
   "outputs": [
    {
     "data": {
      "text/plain": [
       "10\n"
      ]
     },
     "execution_count": 9,
     "metadata": {},
     "output_type": "execute_result"
    }
   ],
   "source": [
    "/ get max val\n",
    "(|/) 1 2 3 10 4 3"
   ]
  },
  {
   "cell_type": "code",
   "execution_count": 10,
   "id": "11a8dff4",
   "metadata": {},
   "outputs": [
    {
     "data": {
      "text/plain": [
       "1\n"
      ]
     },
     "execution_count": 10,
     "metadata": {},
     "output_type": "execute_result"
    }
   ],
   "source": [
    "/ get min val\n",
    "(&/) 1 2 3 10"
   ]
  },
  {
   "cell_type": "code",
   "execution_count": 22,
   "id": "7c6c018d",
   "metadata": {},
   "outputs": [
    {
     "data": {
      "text/plain": [
       "15\n"
      ]
     },
     "execution_count": 22,
     "metadata": {},
     "output_type": "execute_result"
    }
   ],
   "source": [
    "/apply a function over a list\n",
    "0 {x+y}/ 1 2 3 4 5"
   ]
  },
  {
   "cell_type": "code",
   "execution_count": 24,
   "id": "138309bc",
   "metadata": {},
   "outputs": [
    {
     "data": {
      "text/plain": [
       "15\n"
      ]
     },
     "execution_count": 24,
     "metadata": {},
     "output_type": "execute_result"
    }
   ],
   "source": [
    "0 {x+y}/ 1 2 3 4 5"
   ]
  },
  {
   "cell_type": "code",
   "execution_count": 26,
   "id": "fce147dd",
   "metadata": {},
   "outputs": [
    {
     "data": {
      "text/plain": [
       "15\n"
      ]
     },
     "execution_count": 26,
     "metadata": {},
     "output_type": "execute_result"
    }
   ],
   "source": [
    "(+/) 1+til 5"
   ]
  },
  {
   "cell_type": "code",
   "execution_count": 29,
   "id": "9d423010",
   "metadata": {},
   "outputs": [
    {
     "data": {
      "text/plain": [
       "1 3 6 10 15 21 28 36 45 55\n"
      ]
     },
     "execution_count": 29,
     "metadata": {},
     "output_type": "execute_result"
    }
   ],
   "source": [
    "/ scan returns list of same length as input\n",
    "(+\\) 1+til 10"
   ]
  },
  {
   "cell_type": "code",
   "execution_count": 30,
   "id": "16309537",
   "metadata": {},
   "outputs": [],
   "source": [
    "F0:1 1"
   ]
  },
  {
   "cell_type": "code",
   "execution_count": 31,
   "id": "eaf89a7e",
   "metadata": {},
   "outputs": [
    {
     "data": {
      "text/plain": [
       "1 1\n"
      ]
     },
     "execution_count": 31,
     "metadata": {},
     "output_type": "execute_result"
    }
   ],
   "source": [
    "-2#F0"
   ]
  },
  {
   "cell_type": "code",
   "execution_count": 32,
   "id": "19370d4f",
   "metadata": {},
   "outputs": [],
   "source": [
    "F0: 1 1 "
   ]
  },
  {
   "cell_type": "code",
   "execution_count": 33,
   "id": "e8357dc0",
   "metadata": {},
   "outputs": [
    {
     "data": {
      "text/plain": [
       "1 1\n"
      ]
     },
     "execution_count": 33,
     "metadata": {},
     "output_type": "execute_result"
    }
   ],
   "source": [
    "-2#F0"
   ]
  },
  {
   "cell_type": "code",
   "execution_count": 34,
   "id": "bbbbac9c",
   "metadata": {},
   "outputs": [],
   "source": [
    "F1: 1 1 2 3 5"
   ]
  },
  {
   "cell_type": "code",
   "execution_count": 35,
   "id": "c69af90b",
   "metadata": {},
   "outputs": [
    {
     "data": {
      "text/plain": [
       "3 5\n"
      ]
     },
     "execution_count": 35,
     "metadata": {},
     "output_type": "execute_result"
    }
   ],
   "source": [
    "-2#F1"
   ]
  },
  {
   "cell_type": "code",
   "execution_count": 36,
   "id": "82e9cc4a",
   "metadata": {},
   "outputs": [
    {
     "data": {
      "text/plain": [
       "2\n"
      ]
     },
     "execution_count": 36,
     "metadata": {},
     "output_type": "execute_result"
    }
   ],
   "source": [
    "sum -2#F0"
   ]
  },
  {
   "cell_type": "code",
   "execution_count": 41,
   "id": "97c9b0ba",
   "metadata": {},
   "outputs": [
    {
     "data": {
      "text/plain": [
       "1 1 2\n"
      ]
     },
     "execution_count": 41,
     "metadata": {},
     "output_type": "execute_result"
    }
   ],
   "source": [
    "F0, sum -2#F0"
   ]
  },
  {
   "cell_type": "code",
   "execution_count": 50,
   "id": "04e6a4c0",
   "metadata": {},
   "outputs": [],
   "source": [
    "/ take x as a param, take last two values of x, sum them\n",
    "fib:{x, sum -2#x}"
   ]
  },
  {
   "cell_type": "code",
   "execution_count": 46,
   "id": "23bf2299",
   "metadata": {},
   "outputs": [
    {
     "data": {
      "text/plain": [
       "1 1 2\n"
      ]
     },
     "execution_count": 46,
     "metadata": {},
     "output_type": "execute_result"
    }
   ],
   "source": [
    "fib [1 1]"
   ]
  },
  {
   "cell_type": "code",
   "execution_count": 47,
   "id": "e2a23036",
   "metadata": {},
   "outputs": [
    {
     "data": {
      "text/plain": [
       "1 1 2 3\n"
      ]
     },
     "execution_count": 47,
     "metadata": {},
     "output_type": "execute_result"
    }
   ],
   "source": [
    "fib [1 1 2]"
   ]
  },
  {
   "cell_type": "code",
   "execution_count": 59,
   "id": "5007c3d5",
   "metadata": {},
   "outputs": [
    {
     "data": {
      "text/plain": [
       "1 2 3 5 8 13 21 34 55 89 144 233 377 610 987 1597\n"
      ]
     },
     "execution_count": 59,
     "metadata": {},
     "output_type": "execute_result"
    }
   ],
   "source": [
    "/ an overload of the over operator\n",
    "15 fib/1"
   ]
  },
  {
   "cell_type": "code",
   "execution_count": 68,
   "id": "99314b2f",
   "metadata": {},
   "outputs": [
    {
     "data": {
      "text/plain": [
       "1 2 3 5 8 13 21 34 55 89 144\n"
      ]
     },
     "execution_count": 68,
     "metadata": {},
     "output_type": "execute_result"
    }
   ],
   "source": [
    "10 {x,sum -2#x}/ 1"
   ]
  },
  {
   "cell_type": "markdown",
   "id": "77eb0785",
   "metadata": {},
   "source": [
    "### Newtonian method for nth roots"
   ]
  },
  {
   "cell_type": "code",
   "execution_count": 79,
   "id": "d91a33da",
   "metadata": {},
   "outputs": [],
   "source": [
    "/ zero is the base case for approximation\n",
    "x0:1.0"
   ]
  },
  {
   "cell_type": "code",
   "execution_count": 81,
   "id": "04ac398d",
   "metadata": {},
   "outputs": [
    {
     "data": {
      "text/plain": [
       "1.5\n"
      ]
     },
     "execution_count": 81,
     "metadata": {},
     "output_type": "execute_result"
    }
   ],
   "source": [
    "/ Inductive step: Given xn, the n+1st approximation is: xn – f(xn) / f'(xn)\n",
    "x0-((x0*x0)-2)%2*x0"
   ]
  },
  {
   "cell_type": "code",
   "execution_count": 82,
   "id": "13e2d7f1",
   "metadata": {},
   "outputs": [
    {
     "data": {
      "text/plain": [
       "1.414214\n"
      ]
     },
     "execution_count": 82,
     "metadata": {},
     "output_type": "execute_result"
    }
   ],
   "source": [
    "{[xn] xn-((xn*xn)-2)%2*xn}/[1.5]"
   ]
  },
  {
   "cell_type": "code",
   "execution_count": 148,
   "id": "509fc512",
   "metadata": {},
   "outputs": [],
   "source": [
    "/ set display of floating points up to 17th decimal\n",
    "\\P 1"
   ]
  },
  {
   "cell_type": "code",
   "execution_count": 87,
   "id": "5d811645",
   "metadata": {},
   "outputs": [
    {
     "data": {
      "text/plain": [
       "1 1.5 1.4166666666666667 1.4142156862745099 1.4142135623746899 1.414213562373..\n"
      ]
     },
     "execution_count": 87,
     "metadata": {},
     "output_type": "execute_result"
    }
   ],
   "source": [
    "/ scan so that we can see the intermediate results\n",
    "{[xn] xn-((xn*xn)-2)%2*xn}\\[1.0]"
   ]
  },
  {
   "cell_type": "code",
   "execution_count": 88,
   "id": "2dcab027",
   "metadata": {},
   "outputs": [
    {
     "data": {
      "text/plain": [
       "{[c; xn] xn-((xn*xn)-c)%2*xn}\n"
      ]
     },
     "execution_count": 88,
     "metadata": {},
     "output_type": "execute_result"
    }
   ],
   "source": [
    "{[c; xn] xn-((xn*xn)-c)%2*xn}"
   ]
  },
  {
   "cell_type": "code",
   "execution_count": 89,
   "id": "53b4b7e9",
   "metadata": {},
   "outputs": [
    {
     "data": {
      "text/plain": [
       "{[x;xn] xn-((xn*xn)-c)%2*xn}\n"
      ]
     },
     "execution_count": 89,
     "metadata": {},
     "output_type": "execute_result"
    }
   ],
   "source": [
    "{[x;xn] xn-((xn*xn)-c)%2*xn}"
   ]
  },
  {
   "cell_type": "code",
   "execution_count": 90,
   "id": "8dd03de3",
   "metadata": {},
   "outputs": [],
   "source": [
    "buys: 2 1 4 3 5f"
   ]
  },
  {
   "cell_type": "code",
   "execution_count": 91,
   "id": "02014c09",
   "metadata": {},
   "outputs": [],
   "source": [
    "sells: 12f"
   ]
  },
  {
   "cell_type": "code",
   "execution_count": 92,
   "id": "198ee443",
   "metadata": {},
   "outputs": [
    {
     "data": {
      "text/plain": [
       "2 3 7 10 15f\n"
      ]
     },
     "execution_count": 92,
     "metadata": {},
     "output_type": "execute_result"
    }
   ],
   "source": [
    "sums buys"
   ]
  },
  {
   "cell_type": "code",
   "execution_count": 93,
   "id": "68d4a907",
   "metadata": {},
   "outputs": [
    {
     "data": {
      "text/plain": [
       "2 3 7 10 12f\n"
      ]
     },
     "execution_count": 93,
     "metadata": {},
     "output_type": "execute_result"
    }
   ],
   "source": [
    "sells&sums buys"
   ]
  },
  {
   "cell_type": "code",
   "execution_count": 94,
   "id": "e175db96",
   "metadata": {},
   "outputs": [
    {
     "data": {
      "text/plain": [
       "1 1 1 1 1\n"
      ]
     },
     "execution_count": 94,
     "metadata": {},
     "output_type": "execute_result"
    }
   ],
   "source": [
    "deltas 1 2 3 4 5"
   ]
  },
  {
   "cell_type": "code",
   "execution_count": 95,
   "id": "25b9fe54",
   "metadata": {},
   "outputs": [
    {
     "data": {
      "text/plain": [
       "10 10 10 10\n"
      ]
     },
     "execution_count": 95,
     "metadata": {},
     "output_type": "execute_result"
    }
   ],
   "source": [
    "deltas 10 20 30 40 "
   ]
  },
  {
   "cell_type": "code",
   "execution_count": 96,
   "id": "1e945100",
   "metadata": {},
   "outputs": [
    {
     "data": {
      "text/plain": [
       "2 1 4 3 2f\n"
      ]
     },
     "execution_count": 96,
     "metadata": {},
     "output_type": "execute_result"
    }
   ],
   "source": [
    "deltas sells&sums buys"
   ]
  },
  {
   "cell_type": "code",
   "execution_count": 97,
   "id": "44f10f99",
   "metadata": {},
   "outputs": [],
   "source": [
    "buys:2 1 4 3 5 4f\n",
    "sells:2 4 3 2\n",
    "/allocations"
   ]
  },
  {
   "cell_type": "code",
   "execution_count": 98,
   "id": "62ec52e5",
   "metadata": {},
   "outputs": [
    {
     "data": {
      "text/plain": [
       "2 3 7 10 15 19f\n"
      ]
     },
     "execution_count": 98,
     "metadata": {},
     "output_type": "execute_result"
    }
   ],
   "source": [
    "sums[buys]"
   ]
  },
  {
   "cell_type": "code",
   "execution_count": 99,
   "id": "928a0b42",
   "metadata": {},
   "outputs": [
    {
     "data": {
      "text/plain": [
       "2 6 9 11\n"
      ]
     },
     "execution_count": 99,
     "metadata": {},
     "output_type": "execute_result"
    }
   ],
   "source": [
    "sums[sells]"
   ]
  },
  {
   "cell_type": "code",
   "execution_count": 100,
   "id": "e041d90a",
   "metadata": {},
   "outputs": [
    {
     "data": {
      "text/plain": [
       "2 2 2 2 2 2f\n"
      ]
     },
     "execution_count": 100,
     "metadata": {},
     "output_type": "execute_result"
    }
   ],
   "source": [
    "2&sums[buys]"
   ]
  },
  {
   "cell_type": "code",
   "execution_count": 103,
   "id": "143b350b",
   "metadata": {},
   "outputs": [
    {
     "data": {
      "text/plain": [
       "2 3 6 6 6 6f\n"
      ]
     },
     "execution_count": 103,
     "metadata": {},
     "output_type": "execute_result"
    }
   ],
   "source": [
    "6&sums[buys]"
   ]
  },
  {
   "cell_type": "code",
   "execution_count": 104,
   "id": "035b2e00",
   "metadata": {},
   "outputs": [
    {
     "data": {
      "text/plain": [
       "2 3 7 9 9 9f\n"
      ]
     },
     "execution_count": 104,
     "metadata": {},
     "output_type": "execute_result"
    }
   ],
   "source": [
    "9&sums[buys]"
   ]
  },
  {
   "cell_type": "code",
   "execution_count": 105,
   "id": "45ae4339",
   "metadata": {},
   "outputs": [
    {
     "data": {
      "text/plain": [
       "2 3 7 10 11 11f\n"
      ]
     },
     "execution_count": 105,
     "metadata": {},
     "output_type": "execute_result"
    }
   ],
   "source": [
    "11&sums[buys]"
   ]
  },
  {
   "cell_type": "code",
   "execution_count": 108,
   "id": "6790907e",
   "metadata": {},
   "outputs": [
    {
     "data": {
      "text/plain": [
       "2 2 2 2 2 2\n",
       "0 1 4 4 4 4\n",
       "0 0 1 3 3 3\n",
       "0 0 0 1 2 2\n"
      ]
     },
     "execution_count": 108,
     "metadata": {},
     "output_type": "execute_result"
    }
   ],
   "source": [
    "deltas sums[sells]&\\:sums[buys]"
   ]
  },
  {
   "cell_type": "code",
   "execution_count": 112,
   "id": "22db41b1",
   "metadata": {},
   "outputs": [
    {
     "data": {
      "text/plain": [
       "1 2 3\n",
       "10 20\n"
      ]
     },
     "execution_count": 112,
     "metadata": {},
     "output_type": "execute_result"
    }
   ],
   "source": [
    "/ each applies a function to every item of the list - this list has two items (two arrays)\n",
    "(1 2 3; 10 20)"
   ]
  },
  {
   "cell_type": "code",
   "execution_count": 113,
   "id": "97d6e49d",
   "metadata": {},
   "outputs": [
    {
     "data": {
      "text/plain": [
       "2\n"
      ]
     },
     "execution_count": 113,
     "metadata": {},
     "output_type": "execute_result"
    }
   ],
   "source": [
    "count(1 2 3; 10 20)"
   ]
  },
  {
   "cell_type": "code",
   "execution_count": 114,
   "id": "7627cde7",
   "metadata": {},
   "outputs": [
    {
     "data": {
      "text/plain": [
       "3 2\n"
      ]
     },
     "execution_count": 114,
     "metadata": {},
     "output_type": "execute_result"
    }
   ],
   "source": [
    "count each (1 2 3; 10 20)"
   ]
  },
  {
   "cell_type": "code",
   "execution_count": 116,
   "id": "6de4515a",
   "metadata": {},
   "outputs": [
    {
     "data": {
      "text/plain": [
       "2 0 0 0 0 0\n",
       "0 1 3 0 0 0\n",
       "0 0 1 2 0 0\n",
       "0 0 0 1 1 0\n"
      ]
     },
     "execution_count": 116,
     "metadata": {},
     "output_type": "execute_result"
    }
   ],
   "source": [
    "deltas each deltas sums[sells]&\\:sums[buys]"
   ]
  },
  {
   "cell_type": "markdown",
   "id": "d1985a51",
   "metadata": {},
   "source": [
    "## Dictionaries"
   ]
  },
  {
   "cell_type": "code",
   "execution_count": 117,
   "id": "9cc32bc0",
   "metadata": {},
   "outputs": [
    {
     "data": {
      "text/plain": [
       "a| 10\n",
       "b| 20\n",
       "c| 30\n"
      ]
     },
     "execution_count": 117,
     "metadata": {},
     "output_type": "execute_result"
    }
   ],
   "source": [
    "/make dictionaries by two lists of the same len\n",
    "`a`b`c!10 20 30"
   ]
  },
  {
   "cell_type": "code",
   "execution_count": 119,
   "id": "804ce7a6",
   "metadata": {},
   "outputs": [],
   "source": [
    "d:`a`b`c!10 20 30"
   ]
  },
  {
   "cell_type": "code",
   "execution_count": 121,
   "id": "e3db4514",
   "metadata": {},
   "outputs": [
    {
     "data": {
      "text/plain": [
       "10\n"
      ]
     },
     "execution_count": 121,
     "metadata": {},
     "output_type": "execute_result"
    }
   ],
   "source": [
    "d[`a]"
   ]
  },
  {
   "cell_type": "code",
   "execution_count": 124,
   "id": "941bdb67",
   "metadata": {},
   "outputs": [],
   "source": [
    "/column dictionary holds values of uniform length\n",
    "dc:`a`b!(10 20 30; 40 50 60)"
   ]
  },
  {
   "cell_type": "code",
   "execution_count": 125,
   "id": "9c8c92cb",
   "metadata": {},
   "outputs": [
    {
     "data": {
      "text/plain": [
       "a| 10 20 30\n",
       "b| 40 50 60\n"
      ]
     },
     "execution_count": 125,
     "metadata": {},
     "output_type": "execute_result"
    }
   ],
   "source": [
    "dc"
   ]
  },
  {
   "cell_type": "code",
   "execution_count": 127,
   "id": "46ed4310",
   "metadata": {},
   "outputs": [
    {
     "data": {
      "text/plain": [
       "10\n"
      ]
     },
     "execution_count": 127,
     "metadata": {},
     "output_type": "execute_result"
    }
   ],
   "source": [
    "/columns can be indexed too\n",
    "dc[`a][0]"
   ]
  },
  {
   "cell_type": "code",
   "execution_count": 129,
   "id": "392be032",
   "metadata": {},
   "outputs": [
    {
     "data": {
      "text/plain": [
       "10\n"
      ]
     },
     "execution_count": 129,
     "metadata": {},
     "output_type": "execute_result"
    }
   ],
   "source": [
    "/indexing at depth\n",
    "dc[`a;0]"
   ]
  },
  {
   "cell_type": "code",
   "execution_count": 130,
   "id": "9907554e",
   "metadata": {},
   "outputs": [
    {
     "data": {
      "text/plain": [
       "10 20 30\n"
      ]
     },
     "execution_count": 130,
     "metadata": {},
     "output_type": "execute_result"
    }
   ],
   "source": [
    "dc[`a;]"
   ]
  },
  {
   "cell_type": "code",
   "execution_count": 131,
   "id": "f55198d8",
   "metadata": {},
   "outputs": [
    {
     "data": {
      "text/plain": [
       "a| 10\n",
       "b| 40\n"
      ]
     },
     "execution_count": 131,
     "metadata": {},
     "output_type": "execute_result"
    }
   ],
   "source": [
    "dc[;0]"
   ]
  },
  {
   "cell_type": "code",
   "execution_count": 132,
   "id": "20c4f0ef",
   "metadata": {},
   "outputs": [
    {
     "data": {
      "text/plain": [
       "a| 20\n",
       "b| 50\n"
      ]
     },
     "execution_count": 132,
     "metadata": {},
     "output_type": "execute_result"
    }
   ],
   "source": [
    "dc[;1]"
   ]
  },
  {
   "cell_type": "code",
   "execution_count": 138,
   "id": "57fff854",
   "metadata": {},
   "outputs": [],
   "source": [
    "/ you can flip the accessors (transpose)\n",
    "t:flip `c1`c2!(10 20 30; 40 50 60)"
   ]
  },
  {
   "cell_type": "code",
   "execution_count": 140,
   "id": "9e13233f",
   "metadata": {},
   "outputs": [
    {
     "data": {
      "text/plain": [
       "10\n"
      ]
     },
     "execution_count": 140,
     "metadata": {},
     "output_type": "execute_result"
    }
   ],
   "source": [
    "t[0;`c1]"
   ]
  },
  {
   "cell_type": "code",
   "execution_count": 141,
   "id": "b495e0a0",
   "metadata": {},
   "outputs": [
    {
     "data": {
      "text/plain": [
       "20\n"
      ]
     },
     "execution_count": 141,
     "metadata": {},
     "output_type": "execute_result"
    }
   ],
   "source": [
    "t[1;`c1]"
   ]
  },
  {
   "cell_type": "code",
   "execution_count": 142,
   "id": "8ac12524",
   "metadata": {},
   "outputs": [
    {
     "data": {
      "text/plain": [
       "10 20 30\n"
      ]
     },
     "execution_count": 142,
     "metadata": {},
     "output_type": "execute_result"
    }
   ],
   "source": [
    "t[;`c1]"
   ]
  },
  {
   "cell_type": "code",
   "execution_count": 143,
   "id": "33478feb",
   "metadata": {},
   "outputs": [
    {
     "data": {
      "text/plain": [
       "c1| 10\n",
       "c2| 40\n"
      ]
     },
     "execution_count": 143,
     "metadata": {},
     "output_type": "execute_result"
    }
   ],
   "source": [
    "t[0;]"
   ]
  },
  {
   "cell_type": "code",
   "execution_count": 144,
   "id": "e1173979",
   "metadata": {},
   "outputs": [
    {
     "data": {
      "text/plain": [
       "c1 c2\n",
       "-----\n",
       "10 40\n",
       "20 50\n",
       "30 60\n"
      ]
     },
     "execution_count": 144,
     "metadata": {},
     "output_type": "execute_result"
    }
   ],
   "source": [
    "t"
   ]
  },
  {
   "cell_type": "code",
   "execution_count": 146,
   "id": "6a4e3bfd",
   "metadata": {},
   "outputs": [
    {
     "data": {
      "text/plain": [
       "40\n"
      ]
     },
     "execution_count": 146,
     "metadata": {},
     "output_type": "execute_result"
    }
   ],
   "source": [
    "t[0;`c2]"
   ]
  },
  {
   "cell_type": "code",
   "execution_count": 1,
   "id": "94341268",
   "metadata": {},
   "outputs": [
    {
     "data": {
      "text/plain": [
       "c1 c2 \n",
       "------\n",
       "1  1.1\n",
       "2  2.2\n",
       "3  3.3\n",
       "4  4.4\n",
       "5  5.5\n"
      ]
     },
     "execution_count": 1,
     "metadata": {},
     "output_type": "execute_result"
    }
   ],
   "source": [
    "([] c1: 1 2 3 4 5; c2: 1.1 2.2 3.3 4.4 5.5)"
   ]
  },
  {
   "cell_type": "code",
   "execution_count": 2,
   "id": "8e62abc7",
   "metadata": {},
   "outputs": [],
   "source": [
    "t:([]c1:100+til 6;c2:`a`b`c`a`b`a;c3:10*1+til 6)"
   ]
  },
  {
   "cell_type": "code",
   "execution_count": 5,
   "id": "8072c9c5",
   "metadata": {},
   "outputs": [
    {
     "data": {
      "text/plain": [
       "c1  c2 c3\n",
       "---------\n",
       "100 a  10\n",
       "103 a  40\n",
       "105 a  60\n"
      ]
     },
     "execution_count": 5,
     "metadata": {},
     "output_type": "execute_result"
    }
   ],
   "source": [
    "select from t where c2=`a"
   ]
  },
  {
   "cell_type": "code",
   "execution_count": 6,
   "id": "a13106c0",
   "metadata": {},
   "outputs": [
    {
     "data": {
      "text/plain": [
       "c1  c2 c3\n",
       "---------\n",
       "100 a  10\n",
       "101 b  20\n",
       "102 c  30\n",
       "103 a  40\n",
       "104 b  50\n",
       "105 a  60\n"
      ]
     },
     "execution_count": 6,
     "metadata": {},
     "output_type": "execute_result"
    }
   ],
   "source": [
    "select from t"
   ]
  },
  {
   "cell_type": "code",
   "execution_count": 9,
   "id": "b0c6758b",
   "metadata": {},
   "outputs": [
    {
     "data": {
      "text/plain": [
       "c1  val\n",
       "-------\n",
       "100 30 \n",
       "101 60 \n",
       "102 90 \n",
       "103 120\n",
       "104 150\n",
       "105 180\n"
      ]
     },
     "execution_count": 9,
     "metadata": {},
     "output_type": "execute_result"
    }
   ],
   "source": [
    "select c1, val:3*c3 from t"
   ]
  },
  {
   "cell_type": "code",
   "execution_count": 11,
   "id": "730d70a9",
   "metadata": {},
   "outputs": [
    {
     "data": {
      "text/plain": [
       "c2| c1 c3 \n",
       "--| ------\n",
       "a | 3  110\n",
       "b | 2  70 \n",
       "c | 1  30 \n"
      ]
     },
     "execution_count": 11,
     "metadata": {},
     "output_type": "execute_result"
    }
   ],
   "source": [
    "select count c1, sum c3 by c2 from t"
   ]
  },
  {
   "cell_type": "code",
   "execution_count": 12,
   "id": "7d271fb6",
   "metadata": {},
   "outputs": [
    {
     "data": {
      "text/plain": [
       "ovrund| c2\n",
       "------| --\n",
       "0     | 2 \n",
       "1     | 4 \n"
      ]
     },
     "execution_count": 12,
     "metadata": {},
     "output_type": "execute_result"
    }
   ],
   "source": [
    "select count c2 by ovrund:c3<=40 from t"
   ]
  },
  {
   "cell_type": "code",
   "execution_count": 15,
   "id": "c8770008",
   "metadata": {},
   "outputs": [
    {
     "data": {
      "text/plain": [
       "c1  c2 c3 \n",
       "----------\n",
       "100 a  100\n",
       "101 b  20 \n",
       "102 c  30 \n",
       "103 a  400\n",
       "104 b  50 \n",
       "105 a  600\n"
      ]
     },
     "execution_count": 15,
     "metadata": {},
     "output_type": "execute_result"
    }
   ],
   "source": [
    "update c3:10*c3 from t where c2=`a"
   ]
  },
  {
   "cell_type": "code",
   "execution_count": 16,
   "id": "b4a1b69b",
   "metadata": {},
   "outputs": [
    {
     "data": {
      "text/plain": [
       "c1  c2 c3\n",
       "---------\n",
       "100 a  10\n",
       "103 a  40\n",
       "105 a  60\n",
       "101 b  20\n",
       "104 b  50\n",
       "102 c  30\n"
      ]
     },
     "execution_count": 16,
     "metadata": {},
     "output_type": "execute_result"
    }
   ],
   "source": [
    "`c2 xasc t"
   ]
  },
  {
   "cell_type": "code",
   "execution_count": 46,
   "id": "b0655cfe",
   "metadata": {},
   "outputs": [
    {
     "data": {
      "text/plain": [
       "5 15 14 12 19 14 7 3 10 19\n"
      ]
     },
     "execution_count": 46,
     "metadata": {},
     "output_type": "execute_result"
    }
   ],
   "source": [
    "1+10?20 /generate ten random numbers from integers 0-20; then add 1 to all of them"
   ]
  },
  {
   "cell_type": "code",
   "execution_count": 52,
   "id": "bb895ba3",
   "metadata": {},
   "outputs": [
    {
     "data": {
      "text/plain": [
       "14.01596 26.39808 81.63441 38.4848 45.10925 53.93159 21.54614 19.66173 34.772..\n"
      ]
     },
     "execution_count": 52,
     "metadata": {},
     "output_type": "execute_result"
    }
   ],
   "source": [
    ".1+10?100.0"
   ]
  },
  {
   "cell_type": "code",
   "execution_count": 53,
   "id": "8520a20b",
   "metadata": {},
   "outputs": [
    {
     "data": {
      "text/plain": [
       "`ibm`aapl`aapl`aapl`ibm`aapl`aapl`ibm`aapl`ibm\n"
      ]
     },
     "execution_count": 53,
     "metadata": {},
     "output_type": "execute_result"
    }
   ],
   "source": [
    "10?`aapl`ibm"
   ]
  },
  {
   "cell_type": "code",
   "execution_count": 54,
   "id": "18cb8b62",
   "metadata": {},
   "outputs": [],
   "source": [
    "/1 million random dates in Jan 2015\n",
    "dts:2015.01.01+1000000?31"
   ]
  },
  {
   "cell_type": "code",
   "execution_count": 56,
   "id": "c41caa3c",
   "metadata": {},
   "outputs": [],
   "source": [
    "/1 million timespans\n",
    "tms:1000000?24:00:00.000000000"
   ]
  },
  {
   "cell_type": "code",
   "execution_count": 57,
   "id": "e52d9e9e",
   "metadata": {},
   "outputs": [],
   "source": [
    "syms:1000000?`aapl`goog`ibm"
   ]
  },
  {
   "cell_type": "code",
   "execution_count": 58,
   "id": "32e9d868",
   "metadata": {},
   "outputs": [],
   "source": [
    "vols:10*1+1000000?1000"
   ]
  },
  {
   "cell_type": "code",
   "execution_count": 60,
   "id": "919431cb",
   "metadata": {},
   "outputs": [],
   "source": [
    "pxs:90.0+(1000000?2001)%100"
   ]
  },
  {
   "cell_type": "code",
   "execution_count": 61,
   "id": "2c59c502",
   "metadata": {},
   "outputs": [],
   "source": [
    "trades:([] dt:dts; tm:tms; sym:syms; vol:vols; px:pxs)"
   ]
  },
  {
   "cell_type": "code",
   "execution_count": 62,
   "id": "2111b11b",
   "metadata": {},
   "outputs": [
    {
     "data": {
      "text/plain": [
       "dt         tm                   sym  vol  px    \n",
       "------------------------------------------------\n",
       "2015.01.01 0D04:45:00.951681286 ibm  110  100.35\n",
       "2015.01.08 0D07:14:31.539113670 aapl 4030 91.01 \n",
       "2015.01.28 0D05:34:15.065651983 ibm  670  98.28 \n",
       "2015.01.24 0D07:01:09.749678671 goog 1920 107.85\n",
       "2015.01.29 0D06:39:18.084654808 aapl 5950 102.47\n"
      ]
     },
     "execution_count": 62,
     "metadata": {},
     "output_type": "execute_result"
    }
   ],
   "source": [
    "5#trades"
   ]
  },
  {
   "cell_type": "code",
   "execution_count": 63,
   "id": "d3593237",
   "metadata": {},
   "outputs": [],
   "source": [
    "trades: `dt`tm xasc trades"
   ]
  },
  {
   "cell_type": "code",
   "execution_count": 65,
   "id": "ba35e788",
   "metadata": {},
   "outputs": [
    {
     "data": {
      "text/plain": [
       "dt         tm                   sym  vol  px    \n",
       "------------------------------------------------\n",
       "2015.01.01 0D00:00:04.416290670 goog 3600 95.1  \n",
       "2015.01.01 0D00:00:06.777653843 ibm  5300 98.51 \n",
       "2015.01.01 0D00:00:07.029090821 ibm  2920 102.57\n",
       "2015.01.01 0D00:00:08.555153757 aapl 6020 106.06\n",
       "2015.01.01 0D00:00:12.196011096 aapl 3940 106.2 \n"
      ]
     },
     "execution_count": 65,
     "metadata": {},
     "output_type": "execute_result"
    }
   ],
   "source": [
    "5#trades"
   ]
  },
  {
   "cell_type": "code",
   "execution_count": 66,
   "id": "5aae3689",
   "metadata": {},
   "outputs": [],
   "source": [
    "trades: update px:6*px from trades where sym=`goog"
   ]
  },
  {
   "cell_type": "code",
   "execution_count": 67,
   "id": "c0f55ad3",
   "metadata": {},
   "outputs": [],
   "source": [
    "trades: update px:4*px from trades where sym=`appl"
   ]
  },
  {
   "cell_type": "code",
   "execution_count": 71,
   "id": "1cf4f5dd",
   "metadata": {},
   "outputs": [
    {
     "data": {
      "text/plain": [
       "sym | px       vol     \n",
       "----| -----------------\n",
       "aapl| 100.0066 5002.855\n",
       "goog| 599.9624 5006.196\n",
       "ibm | 100.0019 5011.299\n"
      ]
     },
     "execution_count": 71,
     "metadata": {},
     "output_type": "execute_result"
    }
   ],
   "source": [
    "select avg px, avg vol by sym from trades / holy shit"
   ]
  },
  {
   "cell_type": "code",
   "execution_count": 74,
   "id": "0e1135c1",
   "metadata": {},
   "outputs": [
    {
     "data": {
      "text/plain": [
       "sym | lo  hi \n",
       "----| -------\n",
       "aapl| 90  110\n",
       "goog| 540 660\n",
       "ibm | 90  110\n"
      ]
     },
     "execution_count": 74,
     "metadata": {},
     "output_type": "execute_result"
    }
   ],
   "source": [
    "select lo: min px,hi: max px by sym from trades"
   ]
  },
  {
   "cell_type": "code",
   "execution_count": 87,
   "id": "33d5de9d",
   "metadata": {},
   "outputs": [
    {
     "data": {
      "text/plain": [
       "0 0 0 0 5 5 5 5 5 10 10 10 10 10 15\n"
      ]
     },
     "execution_count": 87,
     "metadata": {},
     "output_type": "execute_result"
    }
   ],
   "source": [
    "5 xbar 1+til 15"
   ]
  },
  {
   "cell_type": "code",
   "execution_count": 81,
   "id": "2a08b3fa",
   "metadata": {},
   "outputs": [
    {
     "data": {
      "text/plain": [
       "1 2 3 4 5 6 7 8 9 10 11 12 13 14 15\n"
      ]
     },
     "execution_count": 81,
     "metadata": {},
     "output_type": "execute_result"
    }
   ],
   "source": [
    "1+til 15"
   ]
  },
  {
   "cell_type": "code",
   "execution_count": 93,
   "id": "5a5f2d6d",
   "metadata": {},
   "outputs": [
    {
     "data": {
      "text/plain": [
       "50\n"
      ]
     },
     "execution_count": 93,
     "metadata": {},
     "output_type": "execute_result"
    }
   ],
   "source": [
    "/ weighted average\n",
    "`long$(1 1 1 wavg 40 50 60)"
   ]
  },
  {
   "cell_type": "code",
   "execution_count": 98,
   "id": "0136cbff",
   "metadata": {},
   "outputs": [
    {
     "data": {
      "text/plain": [
       "sym  bkt                 | vwap    \n",
       "-------------------------| --------\n",
       "aapl 0D00:00:00.100000000| 102.5187\n",
       "aapl 0D00:00:00.400000000| 105.6334\n",
       "aapl 0D00:00:01.200000000| 93.89   \n",
       "aapl 0D00:00:01.900000000| 104.06  \n",
       "aapl 0D00:00:02.200000000| 90.84   \n",
       "aapl 0D00:00:02.800000000| 101.57  \n",
       "aapl 0D00:00:03.000000000| 102.3725\n",
       "aapl 0D00:00:03.300000000| 91.3    \n",
       "aapl 0D00:00:06.100000000| 98.91   \n",
       "aapl 0D00:00:06.200000000| 103.97  \n",
       "aapl 0D00:00:06.300000000| 103.58  \n",
       "aapl 0D00:00:06.500000000| 103.99  \n",
       "aapl 0D00:00:06.800000000| 100.68  \n",
       "aapl 0D00:00:07.100000000| 101.57  \n",
       "aapl 0D00:00:07.300000000| 100.93  \n",
       "aapl 0D00:00:07.600000000| 90.54   \n",
       "aapl 0D00:00:07.800000000| 95.36836\n",
       "aapl 0D00:00:08.100000000| 101.7122\n",
       "aapl 0D00:00:08.200000000| 99.78   \n",
       "aapl 0D00:00:08.300000000| 93.98   \n",
       "..\n"
      ]
     },
     "execution_count": 98,
     "metadata": {},
     "output_type": "execute_result"
    }
   ],
   "source": [
    "select vwap: vol wavg px by sym,bkt:100000000 xbar tm from trades"
   ]
  },
  {
   "cell_type": "code",
   "execution_count": 101,
   "id": "4dd17105",
   "metadata": {},
   "outputs": [
    {
     "data": {
      "text/plain": [
       "px\n",
       "--\n",
       "20\n"
      ]
     },
     "execution_count": 101,
     "metadata": {},
     "output_type": "execute_result"
    }
   ],
   "source": [
    "// maximum profit in a single trade\n",
    "select max px-mins px from trades where sym=`aapl"
   ]
  },
  {
   "cell_type": "code",
   "execution_count": 102,
   "id": "7512315a",
   "metadata": {},
   "outputs": [
    {
     "data": {
      "text/plain": [
       "px \n",
       "---\n",
       "120\n"
      ]
     },
     "execution_count": 102,
     "metadata": {},
     "output_type": "execute_result"
    }
   ],
   "source": [
    "select max px-mins px from trades where sym=`goog"
   ]
  },
  {
   "cell_type": "code",
   "execution_count": 116,
   "id": "cdac485c",
   "metadata": {},
   "outputs": [
    {
     "data": {
      "text/plain": [
       "1b\n"
      ]
     },
     "execution_count": 116,
     "metadata": {},
     "output_type": "execute_result"
    }
   ],
   "source": [
    "(count \"string\")=6"
   ]
  },
  {
   "cell_type": "code",
   "execution_count": 119,
   "id": "bb650df6",
   "metadata": {},
   "outputs": [
    {
     "data": {
      "text/plain": [
       "2\n"
      ]
     },
     "execution_count": 119,
     "metadata": {},
     "output_type": "execute_result"
    }
   ],
   "source": [
    "count `string`string"
   ]
  },
  {
   "cell_type": "markdown",
   "id": "ecbfa772",
   "metadata": {},
   "source": [
    "### I/O, persisting data"
   ]
  },
  {
   "cell_type": "code",
   "execution_count": 121,
   "id": "9ba3bd3e",
   "metadata": {},
   "outputs": [
    {
     "data": {
      "text/plain": [
       "`:path/filename\n"
      ]
     },
     "execution_count": 121,
     "metadata": {},
     "output_type": "execute_result"
    }
   ],
   "source": [
    "/ write to file\n",
    "`:path/filename"
   ]
  },
  {
   "cell_type": "code",
   "execution_count": 123,
   "id": "c3e32af4",
   "metadata": {},
   "outputs": [],
   "source": [
    "wt:([] c1:`a`b`c; c2:1.1 2.2 3.3)"
   ]
  },
  {
   "cell_type": "code",
   "execution_count": 124,
   "id": "aaf30d31",
   "metadata": {},
   "outputs": [
    {
     "data": {
      "text/plain": [
       "`:./q4m/files/t\n"
      ]
     },
     "execution_count": 124,
     "metadata": {},
     "output_type": "execute_result"
    }
   ],
   "source": [
    "`:./q4m/files/t set wt"
   ]
  },
  {
   "cell_type": "code",
   "execution_count": 125,
   "id": "9e17dc89",
   "metadata": {},
   "outputs": [
    {
     "data": {
      "text/plain": [
       "c1 c2 \n",
       "------\n",
       "a  1.1\n",
       "b  2.2\n",
       "c  3.3\n"
      ]
     },
     "execution_count": 125,
     "metadata": {},
     "output_type": "execute_result"
    }
   ],
   "source": [
    "get `:./q4m/files/t"
   ]
  },
  {
   "cell_type": "code",
   "execution_count": 125,
   "id": "2d3c34b8",
   "metadata": {},
   "outputs": [
    {
     "ename": "\u001b[0;31m/q4m/examples/life.txt. OS reports: No such file or directory\u001b[0m",
     "evalue": "\u001b[0;31m/q4m/examples/life.txt. OS reports: No such file or directory\u001b[0m",
     "output_type": "error",
     "traceback": [
      "\u001b[0;31mevaluation error:\n\u001b[0m",
      "\u001b[0;31m/q4m/examples/life.txt. OS reports: No such file or directory\u001b[0m",
      "\u001b[0;31m\u001b[0m",
      "\u001b[0;31m  [0]  `:/q4m/examples/life.txt 0: (\"Meaning\";\"of\";\"life\")\n                                ^\n\u001b[0m"
     ]
    }
   ],
   "source": [
    "/0: is an overload to save text data\n",
    "`:/q4m/examples/life.txt 0: (\"Meaning\";\"of\";\"life\")"
   ]
  },
  {
   "cell_type": "code",
   "execution_count": null,
   "id": "20755bfd",
   "metadata": {},
   "outputs": [],
   "source": []
  }
 ],
 "metadata": {
  "kernelspec": {
   "display_name": "Q (kdb+)",
   "language": "q",
   "name": "qpk"
  },
  "language_info": {
   "file_extension": ".q",
   "mimetype": "text/x-q",
   "name": "q",
   "version": "4.0"
  }
 },
 "nbformat": 4,
 "nbformat_minor": 5
}
