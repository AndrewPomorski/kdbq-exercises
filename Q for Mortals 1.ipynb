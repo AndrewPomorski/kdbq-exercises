{
 "cells": [
  {
   "cell_type": "code",
   "execution_count": 1,
   "id": "9532bf8e",
   "metadata": {},
   "outputs": [],
   "source": [
    "/ functions https://code.kx.com/q4m3/1_Q_Shock_and_Awe/#110-functions-101\n",
    "x: {[x] x* x}"
   ]
  },
  {
   "cell_type": "code",
   "execution_count": 2,
   "id": "40fd4c3c",
   "metadata": {},
   "outputs": [
    {
     "data": {
      "text/plain": [
       "16\n"
      ]
     },
     "execution_count": 2,
     "metadata": {},
     "output_type": "execute_result"
    }
   ],
   "source": [
    "x[4]"
   ]
  },
  {
   "cell_type": "code",
   "execution_count": 3,
   "id": "7997d917",
   "metadata": {},
   "outputs": [],
   "source": [
    "pyth:{[x;y] a:x*x; b:y*y; a+b}"
   ]
  },
  {
   "cell_type": "code",
   "execution_count": 4,
   "id": "0c48c46b",
   "metadata": {},
   "outputs": [
    {
     "data": {
      "text/plain": [
       "25\n"
      ]
     },
     "execution_count": 4,
     "metadata": {},
     "output_type": "execute_result"
    }
   ],
   "source": [
    "pyth[3;4]"
   ]
  },
  {
   "cell_type": "code",
   "execution_count": 76,
   "id": "366b5dda",
   "metadata": {},
   "outputs": [],
   "source": [
    "sq:{x*x}"
   ]
  },
  {
   "cell_type": "code",
   "execution_count": 77,
   "id": "462dd74d",
   "metadata": {},
   "outputs": [
    {
     "data": {
      "text/plain": [
       "1 4 9 16 25\n"
      ]
     },
     "execution_count": 77,
     "metadata": {},
     "output_type": "execute_result"
    }
   ],
   "source": [
    "1 sq/ 1 2 3 4 5"
   ]
  },
  {
   "cell_type": "code",
   "execution_count": 75,
   "id": "14424aa8",
   "metadata": {},
   "outputs": [
    {
     "data": {
      "text/plain": [
       "1 4 9 16 25\n"
      ]
     },
     "execution_count": 75,
     "metadata": {},
     "output_type": "execute_result"
    }
   ],
   "source": [
    "/apply function to arguments\n",
    "1 {[x] x*x}/ 1 2 3 4 5"
   ]
  },
  {
   "cell_type": "code",
   "execution_count": 7,
   "id": "ff679a5a",
   "metadata": {},
   "outputs": [
    {
     "data": {
      "text/plain": [
       "25\n"
      ]
     },
     "execution_count": 7,
     "metadata": {},
     "output_type": "execute_result"
    }
   ],
   "source": [
    "f: {x*x}\n",
    "f 5"
   ]
  },
  {
   "cell_type": "code",
   "execution_count": 8,
   "id": "963cc58c",
   "metadata": {},
   "outputs": [
    {
     "data": {
      "text/plain": [
       "15\n"
      ]
     },
     "execution_count": 8,
     "metadata": {},
     "output_type": "execute_result"
    }
   ],
   "source": [
    "/add accross the list to a cumulator\n",
    "0 +/ 1 2 3 4 5 "
   ]
  },
  {
   "cell_type": "code",
   "execution_count": 9,
   "id": "aa162122",
   "metadata": {},
   "outputs": [
    {
     "data": {
      "text/plain": [
       "10\n"
      ]
     },
     "execution_count": 9,
     "metadata": {},
     "output_type": "execute_result"
    }
   ],
   "source": [
    "/ get max val\n",
    "(|/) 1 2 3 10 4 3"
   ]
  },
  {
   "cell_type": "code",
   "execution_count": 10,
   "id": "e6b7d2fe",
   "metadata": {},
   "outputs": [
    {
     "data": {
      "text/plain": [
       "1\n"
      ]
     },
     "execution_count": 10,
     "metadata": {},
     "output_type": "execute_result"
    }
   ],
   "source": [
    "/ get min val\n",
    "(&/) 1 2 3 10"
   ]
  },
  {
   "cell_type": "code",
   "execution_count": 22,
   "id": "3a1cce7f",
   "metadata": {},
   "outputs": [
    {
     "data": {
      "text/plain": [
       "15\n"
      ]
     },
     "execution_count": 22,
     "metadata": {},
     "output_type": "execute_result"
    }
   ],
   "source": [
    "/apply a function over a list\n",
    "0 {x+y}/ 1 2 3 4 5"
   ]
  },
  {
   "cell_type": "code",
   "execution_count": 24,
   "id": "c2e1ce75",
   "metadata": {},
   "outputs": [
    {
     "data": {
      "text/plain": [
       "15\n"
      ]
     },
     "execution_count": 24,
     "metadata": {},
     "output_type": "execute_result"
    }
   ],
   "source": [
    "0 {x+y}/ 1 2 3 4 5"
   ]
  },
  {
   "cell_type": "code",
   "execution_count": 26,
   "id": "63650ff6",
   "metadata": {},
   "outputs": [
    {
     "data": {
      "text/plain": [
       "15\n"
      ]
     },
     "execution_count": 26,
     "metadata": {},
     "output_type": "execute_result"
    }
   ],
   "source": [
    "(+/) 1+til 5"
   ]
  },
  {
   "cell_type": "code",
   "execution_count": 29,
   "id": "8491a115",
   "metadata": {},
   "outputs": [
    {
     "data": {
      "text/plain": [
       "1 3 6 10 15 21 28 36 45 55\n"
      ]
     },
     "execution_count": 29,
     "metadata": {},
     "output_type": "execute_result"
    }
   ],
   "source": [
    "/ scan returns list of same length as input\n",
    "(+\\) 1+til 10"
   ]
  },
  {
   "cell_type": "code",
   "execution_count": 30,
   "id": "763a170e",
   "metadata": {},
   "outputs": [],
   "source": [
    "F0:1 1"
   ]
  },
  {
   "cell_type": "code",
   "execution_count": 31,
   "id": "76fa9619",
   "metadata": {},
   "outputs": [
    {
     "data": {
      "text/plain": [
       "1 1\n"
      ]
     },
     "execution_count": 31,
     "metadata": {},
     "output_type": "execute_result"
    }
   ],
   "source": [
    "-2#F0"
   ]
  },
  {
   "cell_type": "code",
   "execution_count": 32,
   "id": "5e6de793",
   "metadata": {},
   "outputs": [],
   "source": [
    "F0: 1 1 "
   ]
  },
  {
   "cell_type": "code",
   "execution_count": 33,
   "id": "32950da7",
   "metadata": {},
   "outputs": [
    {
     "data": {
      "text/plain": [
       "1 1\n"
      ]
     },
     "execution_count": 33,
     "metadata": {},
     "output_type": "execute_result"
    }
   ],
   "source": [
    "-2#F0"
   ]
  },
  {
   "cell_type": "code",
   "execution_count": 34,
   "id": "9c87061c",
   "metadata": {},
   "outputs": [],
   "source": [
    "F1: 1 1 2 3 5"
   ]
  },
  {
   "cell_type": "code",
   "execution_count": 35,
   "id": "f697494f",
   "metadata": {},
   "outputs": [
    {
     "data": {
      "text/plain": [
       "3 5\n"
      ]
     },
     "execution_count": 35,
     "metadata": {},
     "output_type": "execute_result"
    }
   ],
   "source": [
    "-2#F1"
   ]
  },
  {
   "cell_type": "code",
   "execution_count": 36,
   "id": "65bf45fc",
   "metadata": {},
   "outputs": [
    {
     "data": {
      "text/plain": [
       "2\n"
      ]
     },
     "execution_count": 36,
     "metadata": {},
     "output_type": "execute_result"
    }
   ],
   "source": [
    "sum -2#F0"
   ]
  },
  {
   "cell_type": "code",
   "execution_count": 41,
   "id": "169f0105",
   "metadata": {},
   "outputs": [
    {
     "data": {
      "text/plain": [
       "1 1 2\n"
      ]
     },
     "execution_count": 41,
     "metadata": {},
     "output_type": "execute_result"
    }
   ],
   "source": [
    "F0, sum -2#F0"
   ]
  },
  {
   "cell_type": "code",
   "execution_count": 50,
   "id": "fece2c89",
   "metadata": {},
   "outputs": [],
   "source": [
    "/ take x as a param, take last two values of x, sum them\n",
    "fib:{x, sum -2#x}"
   ]
  },
  {
   "cell_type": "code",
   "execution_count": 46,
   "id": "1d0733e3",
   "metadata": {},
   "outputs": [
    {
     "data": {
      "text/plain": [
       "1 1 2\n"
      ]
     },
     "execution_count": 46,
     "metadata": {},
     "output_type": "execute_result"
    }
   ],
   "source": [
    "fib [1 1]"
   ]
  },
  {
   "cell_type": "code",
   "execution_count": 47,
   "id": "9ec1ab99",
   "metadata": {},
   "outputs": [
    {
     "data": {
      "text/plain": [
       "1 1 2 3\n"
      ]
     },
     "execution_count": 47,
     "metadata": {},
     "output_type": "execute_result"
    }
   ],
   "source": [
    "fib [1 1 2]"
   ]
  },
  {
   "cell_type": "code",
   "execution_count": 59,
   "id": "73b06fd0",
   "metadata": {},
   "outputs": [
    {
     "data": {
      "text/plain": [
       "1 2 3 5 8 13 21 34 55 89 144 233 377 610 987 1597\n"
      ]
     },
     "execution_count": 59,
     "metadata": {},
     "output_type": "execute_result"
    }
   ],
   "source": [
    "/ an overload of the over operator\n",
    "15 fib/1"
   ]
  },
  {
   "cell_type": "code",
   "execution_count": 68,
   "id": "e410cdf0",
   "metadata": {},
   "outputs": [
    {
     "data": {
      "text/plain": [
       "1 2 3 5 8 13 21 34 55 89 144\n"
      ]
     },
     "execution_count": 68,
     "metadata": {},
     "output_type": "execute_result"
    }
   ],
   "source": [
    "10 {x,sum -2#x}/ 1"
   ]
  },
  {
   "cell_type": "markdown",
   "id": "a5d480a0",
   "metadata": {},
   "source": [
    "### Newtonian method for nth roots"
   ]
  },
  {
   "cell_type": "code",
   "execution_count": 79,
   "id": "58b17574",
   "metadata": {},
   "outputs": [],
   "source": [
    "/ zero is the base case for approximation\n",
    "x0:1.0"
   ]
  },
  {
   "cell_type": "code",
   "execution_count": 81,
   "id": "bb58dde5",
   "metadata": {},
   "outputs": [
    {
     "data": {
      "text/plain": [
       "1.5\n"
      ]
     },
     "execution_count": 81,
     "metadata": {},
     "output_type": "execute_result"
    }
   ],
   "source": [
    "/ Inductive step: Given xn, the n+1st approximation is: xn – f(xn) / f'(xn)\n",
    "x0-((x0*x0)-2)%2*x0"
   ]
  },
  {
   "cell_type": "code",
   "execution_count": 82,
   "id": "5aa6d41d",
   "metadata": {},
   "outputs": [
    {
     "data": {
      "text/plain": [
       "1.414214\n"
      ]
     },
     "execution_count": 82,
     "metadata": {},
     "output_type": "execute_result"
    }
   ],
   "source": [
    "{[xn] xn-((xn*xn)-2)%2*xn}/[1.5]"
   ]
  },
  {
   "cell_type": "code",
   "execution_count": 148,
   "id": "0e4d9616",
   "metadata": {},
   "outputs": [],
   "source": [
    "/ set display of floating points up to 17th decimal\n",
    "\\P 1"
   ]
  },
  {
   "cell_type": "code",
   "execution_count": 87,
   "id": "c4bf384b",
   "metadata": {},
   "outputs": [
    {
     "data": {
      "text/plain": [
       "1 1.5 1.4166666666666667 1.4142156862745099 1.4142135623746899 1.414213562373..\n"
      ]
     },
     "execution_count": 87,
     "metadata": {},
     "output_type": "execute_result"
    }
   ],
   "source": [
    "/ scan so that we can see the intermediate results\n",
    "{[xn] xn-((xn*xn)-2)%2*xn}\\[1.0]"
   ]
  },
  {
   "cell_type": "code",
   "execution_count": 88,
   "id": "31a12a6a",
   "metadata": {},
   "outputs": [
    {
     "data": {
      "text/plain": [
       "{[c; xn] xn-((xn*xn)-c)%2*xn}\n"
      ]
     },
     "execution_count": 88,
     "metadata": {},
     "output_type": "execute_result"
    }
   ],
   "source": [
    "{[c; xn] xn-((xn*xn)-c)%2*xn}"
   ]
  },
  {
   "cell_type": "code",
   "execution_count": 89,
   "id": "600ee27e",
   "metadata": {},
   "outputs": [
    {
     "data": {
      "text/plain": [
       "{[x;xn] xn-((xn*xn)-c)%2*xn}\n"
      ]
     },
     "execution_count": 89,
     "metadata": {},
     "output_type": "execute_result"
    }
   ],
   "source": [
    "{[x;xn] xn-((xn*xn)-c)%2*xn}"
   ]
  },
  {
   "cell_type": "code",
   "execution_count": 90,
   "id": "6a31e91d",
   "metadata": {},
   "outputs": [],
   "source": [
    "buys: 2 1 4 3 5f"
   ]
  },
  {
   "cell_type": "code",
   "execution_count": 91,
   "id": "8e61c2ec",
   "metadata": {},
   "outputs": [],
   "source": [
    "sells: 12f"
   ]
  },
  {
   "cell_type": "code",
   "execution_count": 92,
   "id": "ad2a39e6",
   "metadata": {},
   "outputs": [
    {
     "data": {
      "text/plain": [
       "2 3 7 10 15f\n"
      ]
     },
     "execution_count": 92,
     "metadata": {},
     "output_type": "execute_result"
    }
   ],
   "source": [
    "sums buys"
   ]
  },
  {
   "cell_type": "code",
   "execution_count": 93,
   "id": "a560a2d4",
   "metadata": {},
   "outputs": [
    {
     "data": {
      "text/plain": [
       "2 3 7 10 12f\n"
      ]
     },
     "execution_count": 93,
     "metadata": {},
     "output_type": "execute_result"
    }
   ],
   "source": [
    "sells&sums buys"
   ]
  },
  {
   "cell_type": "code",
   "execution_count": 94,
   "id": "5e3b9673",
   "metadata": {},
   "outputs": [
    {
     "data": {
      "text/plain": [
       "1 1 1 1 1\n"
      ]
     },
     "execution_count": 94,
     "metadata": {},
     "output_type": "execute_result"
    }
   ],
   "source": [
    "deltas 1 2 3 4 5"
   ]
  },
  {
   "cell_type": "code",
   "execution_count": 95,
   "id": "0119a729",
   "metadata": {},
   "outputs": [
    {
     "data": {
      "text/plain": [
       "10 10 10 10\n"
      ]
     },
     "execution_count": 95,
     "metadata": {},
     "output_type": "execute_result"
    }
   ],
   "source": [
    "deltas 10 20 30 40 "
   ]
  },
  {
   "cell_type": "code",
   "execution_count": 96,
   "id": "6b2a7149",
   "metadata": {},
   "outputs": [
    {
     "data": {
      "text/plain": [
       "2 1 4 3 2f\n"
      ]
     },
     "execution_count": 96,
     "metadata": {},
     "output_type": "execute_result"
    }
   ],
   "source": [
    "deltas sells&sums buys"
   ]
  },
  {
   "cell_type": "code",
   "execution_count": 97,
   "id": "e0e44547",
   "metadata": {},
   "outputs": [],
   "source": [
    "buys:2 1 4 3 5 4f\n",
    "sells:2 4 3 2\n",
    "/allocations"
   ]
  },
  {
   "cell_type": "code",
   "execution_count": 98,
   "id": "381bb3fb",
   "metadata": {},
   "outputs": [
    {
     "data": {
      "text/plain": [
       "2 3 7 10 15 19f\n"
      ]
     },
     "execution_count": 98,
     "metadata": {},
     "output_type": "execute_result"
    }
   ],
   "source": [
    "sums[buys]"
   ]
  },
  {
   "cell_type": "code",
   "execution_count": 99,
   "id": "a2621dfa",
   "metadata": {},
   "outputs": [
    {
     "data": {
      "text/plain": [
       "2 6 9 11\n"
      ]
     },
     "execution_count": 99,
     "metadata": {},
     "output_type": "execute_result"
    }
   ],
   "source": [
    "sums[sells]"
   ]
  },
  {
   "cell_type": "code",
   "execution_count": 100,
   "id": "1ebcaca3",
   "metadata": {},
   "outputs": [
    {
     "data": {
      "text/plain": [
       "2 2 2 2 2 2f\n"
      ]
     },
     "execution_count": 100,
     "metadata": {},
     "output_type": "execute_result"
    }
   ],
   "source": [
    "2&sums[buys]"
   ]
  },
  {
   "cell_type": "code",
   "execution_count": 103,
   "id": "620d9931",
   "metadata": {},
   "outputs": [
    {
     "data": {
      "text/plain": [
       "2 3 6 6 6 6f\n"
      ]
     },
     "execution_count": 103,
     "metadata": {},
     "output_type": "execute_result"
    }
   ],
   "source": [
    "6&sums[buys]"
   ]
  },
  {
   "cell_type": "code",
   "execution_count": 104,
   "id": "31e5dcfc",
   "metadata": {},
   "outputs": [
    {
     "data": {
      "text/plain": [
       "2 3 7 9 9 9f\n"
      ]
     },
     "execution_count": 104,
     "metadata": {},
     "output_type": "execute_result"
    }
   ],
   "source": [
    "9&sums[buys]"
   ]
  },
  {
   "cell_type": "code",
   "execution_count": 105,
   "id": "58eec143",
   "metadata": {},
   "outputs": [
    {
     "data": {
      "text/plain": [
       "2 3 7 10 11 11f\n"
      ]
     },
     "execution_count": 105,
     "metadata": {},
     "output_type": "execute_result"
    }
   ],
   "source": [
    "11&sums[buys]"
   ]
  },
  {
   "cell_type": "code",
   "execution_count": 108,
   "id": "682856e4",
   "metadata": {},
   "outputs": [
    {
     "data": {
      "text/plain": [
       "2 2 2 2 2 2\n",
       "0 1 4 4 4 4\n",
       "0 0 1 3 3 3\n",
       "0 0 0 1 2 2\n"
      ]
     },
     "execution_count": 108,
     "metadata": {},
     "output_type": "execute_result"
    }
   ],
   "source": [
    "deltas sums[sells]&\\:sums[buys]"
   ]
  },
  {
   "cell_type": "code",
   "execution_count": 112,
   "id": "ca344d8b",
   "metadata": {},
   "outputs": [
    {
     "data": {
      "text/plain": [
       "1 2 3\n",
       "10 20\n"
      ]
     },
     "execution_count": 112,
     "metadata": {},
     "output_type": "execute_result"
    }
   ],
   "source": [
    "/ each applies a function to every item of the list - this list has two items (two arrays)\n",
    "(1 2 3; 10 20)"
   ]
  },
  {
   "cell_type": "code",
   "execution_count": 113,
   "id": "6791c700",
   "metadata": {},
   "outputs": [
    {
     "data": {
      "text/plain": [
       "2\n"
      ]
     },
     "execution_count": 113,
     "metadata": {},
     "output_type": "execute_result"
    }
   ],
   "source": [
    "count(1 2 3; 10 20)"
   ]
  },
  {
   "cell_type": "code",
   "execution_count": 114,
   "id": "8bae037c",
   "metadata": {},
   "outputs": [
    {
     "data": {
      "text/plain": [
       "3 2\n"
      ]
     },
     "execution_count": 114,
     "metadata": {},
     "output_type": "execute_result"
    }
   ],
   "source": [
    "count each (1 2 3; 10 20)"
   ]
  },
  {
   "cell_type": "code",
   "execution_count": 116,
   "id": "2dde32f5",
   "metadata": {},
   "outputs": [
    {
     "data": {
      "text/plain": [
       "2 0 0 0 0 0\n",
       "0 1 3 0 0 0\n",
       "0 0 1 2 0 0\n",
       "0 0 0 1 1 0\n"
      ]
     },
     "execution_count": 116,
     "metadata": {},
     "output_type": "execute_result"
    }
   ],
   "source": [
    "deltas each deltas sums[sells]&\\:sums[buys]"
   ]
  },
  {
   "cell_type": "markdown",
   "id": "079b1752",
   "metadata": {},
   "source": [
    "## Dictionaries"
   ]
  },
  {
   "cell_type": "code",
   "execution_count": 117,
   "id": "fa00c76f",
   "metadata": {},
   "outputs": [
    {
     "data": {
      "text/plain": [
       "a| 10\n",
       "b| 20\n",
       "c| 30\n"
      ]
     },
     "execution_count": 117,
     "metadata": {},
     "output_type": "execute_result"
    }
   ],
   "source": [
    "/make dictionaries by two lists of the same len\n",
    "`a`b`c!10 20 30"
   ]
  },
  {
   "cell_type": "code",
   "execution_count": 119,
   "id": "29524795",
   "metadata": {},
   "outputs": [],
   "source": [
    "d:`a`b`c!10 20 30"
   ]
  },
  {
   "cell_type": "code",
   "execution_count": 121,
   "id": "7cbaea53",
   "metadata": {},
   "outputs": [
    {
     "data": {
      "text/plain": [
       "10\n"
      ]
     },
     "execution_count": 121,
     "metadata": {},
     "output_type": "execute_result"
    }
   ],
   "source": [
    "d[`a]"
   ]
  },
  {
   "cell_type": "code",
   "execution_count": 124,
   "id": "a5158d7d",
   "metadata": {},
   "outputs": [],
   "source": [
    "/column dictionary holds values of uniform length\n",
    "dc:`a`b!(10 20 30; 40 50 60)"
   ]
  },
  {
   "cell_type": "code",
   "execution_count": 125,
   "id": "4739f09f",
   "metadata": {},
   "outputs": [
    {
     "data": {
      "text/plain": [
       "a| 10 20 30\n",
       "b| 40 50 60\n"
      ]
     },
     "execution_count": 125,
     "metadata": {},
     "output_type": "execute_result"
    }
   ],
   "source": [
    "dc"
   ]
  },
  {
   "cell_type": "code",
   "execution_count": 127,
   "id": "1150d081",
   "metadata": {},
   "outputs": [
    {
     "data": {
      "text/plain": [
       "10\n"
      ]
     },
     "execution_count": 127,
     "metadata": {},
     "output_type": "execute_result"
    }
   ],
   "source": [
    "/columns can be indexed too\n",
    "dc[`a][0]"
   ]
  },
  {
   "cell_type": "code",
   "execution_count": 129,
   "id": "0468023d",
   "metadata": {},
   "outputs": [
    {
     "data": {
      "text/plain": [
       "10\n"
      ]
     },
     "execution_count": 129,
     "metadata": {},
     "output_type": "execute_result"
    }
   ],
   "source": [
    "/indexing at depth\n",
    "dc[`a;0]"
   ]
  },
  {
   "cell_type": "code",
   "execution_count": 130,
   "id": "82a984cd",
   "metadata": {},
   "outputs": [
    {
     "data": {
      "text/plain": [
       "10 20 30\n"
      ]
     },
     "execution_count": 130,
     "metadata": {},
     "output_type": "execute_result"
    }
   ],
   "source": [
    "dc[`a;]"
   ]
  },
  {
   "cell_type": "code",
   "execution_count": 131,
   "id": "73f52008",
   "metadata": {},
   "outputs": [
    {
     "data": {
      "text/plain": [
       "a| 10\n",
       "b| 40\n"
      ]
     },
     "execution_count": 131,
     "metadata": {},
     "output_type": "execute_result"
    }
   ],
   "source": [
    "dc[;0]"
   ]
  },
  {
   "cell_type": "code",
   "execution_count": 132,
   "id": "b34c7dae",
   "metadata": {},
   "outputs": [
    {
     "data": {
      "text/plain": [
       "a| 20\n",
       "b| 50\n"
      ]
     },
     "execution_count": 132,
     "metadata": {},
     "output_type": "execute_result"
    }
   ],
   "source": [
    "dc[;1]"
   ]
  },
  {
   "cell_type": "code",
   "execution_count": 138,
   "id": "ef1b442f",
   "metadata": {},
   "outputs": [],
   "source": [
    "/ you can flip the accessors (transpose)\n",
    "t:flip `c1`c2!(10 20 30; 40 50 60)"
   ]
  },
  {
   "cell_type": "code",
   "execution_count": 140,
   "id": "a2de6e19",
   "metadata": {},
   "outputs": [
    {
     "data": {
      "text/plain": [
       "10\n"
      ]
     },
     "execution_count": 140,
     "metadata": {},
     "output_type": "execute_result"
    }
   ],
   "source": [
    "t[0;`c1]"
   ]
  },
  {
   "cell_type": "code",
   "execution_count": 141,
   "id": "918423db",
   "metadata": {},
   "outputs": [
    {
     "data": {
      "text/plain": [
       "20\n"
      ]
     },
     "execution_count": 141,
     "metadata": {},
     "output_type": "execute_result"
    }
   ],
   "source": [
    "t[1;`c1]"
   ]
  },
  {
   "cell_type": "code",
   "execution_count": 142,
   "id": "bc26ab3f",
   "metadata": {},
   "outputs": [
    {
     "data": {
      "text/plain": [
       "10 20 30\n"
      ]
     },
     "execution_count": 142,
     "metadata": {},
     "output_type": "execute_result"
    }
   ],
   "source": [
    "t[;`c1]"
   ]
  },
  {
   "cell_type": "code",
   "execution_count": 143,
   "id": "7e78b84a",
   "metadata": {},
   "outputs": [
    {
     "data": {
      "text/plain": [
       "c1| 10\n",
       "c2| 40\n"
      ]
     },
     "execution_count": 143,
     "metadata": {},
     "output_type": "execute_result"
    }
   ],
   "source": [
    "t[0;]"
   ]
  },
  {
   "cell_type": "code",
   "execution_count": 144,
   "id": "f8cf1446",
   "metadata": {},
   "outputs": [
    {
     "data": {
      "text/plain": [
       "c1 c2\n",
       "-----\n",
       "10 40\n",
       "20 50\n",
       "30 60\n"
      ]
     },
     "execution_count": 144,
     "metadata": {},
     "output_type": "execute_result"
    }
   ],
   "source": [
    "t"
   ]
  },
  {
   "cell_type": "code",
   "execution_count": 146,
   "id": "0f23cab5",
   "metadata": {},
   "outputs": [
    {
     "data": {
      "text/plain": [
       "40\n"
      ]
     },
     "execution_count": 146,
     "metadata": {},
     "output_type": "execute_result"
    }
   ],
   "source": [
    "t[0;`c2]"
   ]
  },
  {
   "cell_type": "code",
   "execution_count": 1,
   "id": "fed6e587",
   "metadata": {},
   "outputs": [
    {
     "data": {
      "text/plain": [
       "c1 c2 \n",
       "------\n",
       "1  1.1\n",
       "2  2.2\n",
       "3  3.3\n",
       "4  4.4\n",
       "5  5.5\n"
      ]
     },
     "execution_count": 1,
     "metadata": {},
     "output_type": "execute_result"
    }
   ],
   "source": [
    "([] c1: 1 2 3 4 5; c2: 1.1 2.2 3.3 4.4 5.5)"
   ]
  },
  {
   "cell_type": "code",
   "execution_count": 2,
   "id": "e416d4e5",
   "metadata": {},
   "outputs": [],
   "source": [
    "t:([]c1:100+til 6;c2:`a`b`c`a`b`a;c3:10*1+til 6)"
   ]
  },
  {
   "cell_type": "code",
   "execution_count": 5,
   "id": "5aacb59e",
   "metadata": {},
   "outputs": [
    {
     "data": {
      "text/plain": [
       "c1  c2 c3\n",
       "---------\n",
       "100 a  10\n",
       "103 a  40\n",
       "105 a  60\n"
      ]
     },
     "execution_count": 5,
     "metadata": {},
     "output_type": "execute_result"
    }
   ],
   "source": [
    "select from t where c2=`a"
   ]
  },
  {
   "cell_type": "code",
   "execution_count": 6,
   "id": "1fc62bd6",
   "metadata": {},
   "outputs": [
    {
     "data": {
      "text/plain": [
       "c1  c2 c3\n",
       "---------\n",
       "100 a  10\n",
       "101 b  20\n",
       "102 c  30\n",
       "103 a  40\n",
       "104 b  50\n",
       "105 a  60\n"
      ]
     },
     "execution_count": 6,
     "metadata": {},
     "output_type": "execute_result"
    }
   ],
   "source": [
    "select from t"
   ]
  },
  {
   "cell_type": "code",
   "execution_count": 9,
   "id": "d5b1db9b",
   "metadata": {},
   "outputs": [
    {
     "data": {
      "text/plain": [
       "c1  val\n",
       "-------\n",
       "100 30 \n",
       "101 60 \n",
       "102 90 \n",
       "103 120\n",
       "104 150\n",
       "105 180\n"
      ]
     },
     "execution_count": 9,
     "metadata": {},
     "output_type": "execute_result"
    }
   ],
   "source": [
    "select c1, val:3*c3 from t"
   ]
  },
  {
   "cell_type": "code",
   "execution_count": 11,
   "id": "91ad683e",
   "metadata": {},
   "outputs": [
    {
     "data": {
      "text/plain": [
       "c2| c1 c3 \n",
       "--| ------\n",
       "a | 3  110\n",
       "b | 2  70 \n",
       "c | 1  30 \n"
      ]
     },
     "execution_count": 11,
     "metadata": {},
     "output_type": "execute_result"
    }
   ],
   "source": [
    "select count c1, sum c3 by c2 from t"
   ]
  },
  {
   "cell_type": "code",
   "execution_count": 12,
   "id": "e352f5e4",
   "metadata": {},
   "outputs": [
    {
     "data": {
      "text/plain": [
       "ovrund| c2\n",
       "------| --\n",
       "0     | 2 \n",
       "1     | 4 \n"
      ]
     },
     "execution_count": 12,
     "metadata": {},
     "output_type": "execute_result"
    }
   ],
   "source": [
    "select count c2 by ovrund:c3<=40 from t"
   ]
  },
  {
   "cell_type": "code",
   "execution_count": 15,
   "id": "fccf9841",
   "metadata": {},
   "outputs": [
    {
     "data": {
      "text/plain": [
       "c1  c2 c3 \n",
       "----------\n",
       "100 a  100\n",
       "101 b  20 \n",
       "102 c  30 \n",
       "103 a  400\n",
       "104 b  50 \n",
       "105 a  600\n"
      ]
     },
     "execution_count": 15,
     "metadata": {},
     "output_type": "execute_result"
    }
   ],
   "source": [
    "update c3:10*c3 from t where c2=`a"
   ]
  },
  {
   "cell_type": "code",
   "execution_count": 16,
   "id": "efba9ce1",
   "metadata": {},
   "outputs": [
    {
     "data": {
      "text/plain": [
       "c1  c2 c3\n",
       "---------\n",
       "100 a  10\n",
       "103 a  40\n",
       "105 a  60\n",
       "101 b  20\n",
       "104 b  50\n",
       "102 c  30\n"
      ]
     },
     "execution_count": 16,
     "metadata": {},
     "output_type": "execute_result"
    }
   ],
   "source": [
    "`c2 xasc t"
   ]
  },
  {
   "cell_type": "code",
   "execution_count": 46,
   "id": "530878c3",
   "metadata": {},
   "outputs": [
    {
     "data": {
      "text/plain": [
       "5 15 14 12 19 14 7 3 10 19\n"
      ]
     },
     "execution_count": 46,
     "metadata": {},
     "output_type": "execute_result"
    }
   ],
   "source": [
    "1+10?20 /generate ten random numbers from integers 0-20; then add 1 to all of them"
   ]
  },
  {
   "cell_type": "code",
   "execution_count": 52,
   "id": "7233fb49",
   "metadata": {},
   "outputs": [
    {
     "data": {
      "text/plain": [
       "14.01596 26.39808 81.63441 38.4848 45.10925 53.93159 21.54614 19.66173 34.772..\n"
      ]
     },
     "execution_count": 52,
     "metadata": {},
     "output_type": "execute_result"
    }
   ],
   "source": [
    ".1+10?100.0"
   ]
  },
  {
   "cell_type": "code",
   "execution_count": 53,
   "id": "0ad4da6c",
   "metadata": {},
   "outputs": [
    {
     "data": {
      "text/plain": [
       "`ibm`aapl`aapl`aapl`ibm`aapl`aapl`ibm`aapl`ibm\n"
      ]
     },
     "execution_count": 53,
     "metadata": {},
     "output_type": "execute_result"
    }
   ],
   "source": [
    "10?`aapl`ibm"
   ]
  },
  {
   "cell_type": "code",
   "execution_count": 54,
   "id": "dbed2a3a",
   "metadata": {},
   "outputs": [],
   "source": [
    "/1 million random dates in Jan 2015\n",
    "dts:2015.01.01+1000000?31"
   ]
  },
  {
   "cell_type": "code",
   "execution_count": 56,
   "id": "28bc6d71",
   "metadata": {},
   "outputs": [],
   "source": [
    "/1 million timespans\n",
    "tms:1000000?24:00:00.000000000"
   ]
  },
  {
   "cell_type": "code",
   "execution_count": 57,
   "id": "b5b22c29",
   "metadata": {},
   "outputs": [],
   "source": [
    "syms:1000000?`aapl`goog`ibm"
   ]
  },
  {
   "cell_type": "code",
   "execution_count": 58,
   "id": "ae400e56",
   "metadata": {},
   "outputs": [],
   "source": [
    "vols:10*1+1000000?1000"
   ]
  },
  {
   "cell_type": "code",
   "execution_count": 60,
   "id": "41f5af0a",
   "metadata": {},
   "outputs": [],
   "source": [
    "pxs:90.0+(1000000?2001)%100"
   ]
  },
  {
   "cell_type": "code",
   "execution_count": 61,
   "id": "0fc22139",
   "metadata": {},
   "outputs": [],
   "source": [
    "trades:([] dt:dts; tm:tms; sym:syms; vol:vols; px:pxs)"
   ]
  },
  {
   "cell_type": "code",
   "execution_count": 62,
   "id": "1e27ee5d",
   "metadata": {},
   "outputs": [
    {
     "data": {
      "text/plain": [
       "dt         tm                   sym  vol  px    \n",
       "------------------------------------------------\n",
       "2015.01.01 0D04:45:00.951681286 ibm  110  100.35\n",
       "2015.01.08 0D07:14:31.539113670 aapl 4030 91.01 \n",
       "2015.01.28 0D05:34:15.065651983 ibm  670  98.28 \n",
       "2015.01.24 0D07:01:09.749678671 goog 1920 107.85\n",
       "2015.01.29 0D06:39:18.084654808 aapl 5950 102.47\n"
      ]
     },
     "execution_count": 62,
     "metadata": {},
     "output_type": "execute_result"
    }
   ],
   "source": [
    "5#trades"
   ]
  },
  {
   "cell_type": "code",
   "execution_count": 63,
   "id": "4a409468",
   "metadata": {},
   "outputs": [],
   "source": [
    "trades: `dt`tm xasc trades"
   ]
  },
  {
   "cell_type": "code",
   "execution_count": 65,
   "id": "a485f219",
   "metadata": {},
   "outputs": [
    {
     "data": {
      "text/plain": [
       "dt         tm                   sym  vol  px    \n",
       "------------------------------------------------\n",
       "2015.01.01 0D00:00:04.416290670 goog 3600 95.1  \n",
       "2015.01.01 0D00:00:06.777653843 ibm  5300 98.51 \n",
       "2015.01.01 0D00:00:07.029090821 ibm  2920 102.57\n",
       "2015.01.01 0D00:00:08.555153757 aapl 6020 106.06\n",
       "2015.01.01 0D00:00:12.196011096 aapl 3940 106.2 \n"
      ]
     },
     "execution_count": 65,
     "metadata": {},
     "output_type": "execute_result"
    }
   ],
   "source": [
    "5#trades"
   ]
  },
  {
   "cell_type": "code",
   "execution_count": 66,
   "id": "b0322891",
   "metadata": {},
   "outputs": [],
   "source": [
    "trades: update px:6*px from trades where sym=`goog"
   ]
  },
  {
   "cell_type": "code",
   "execution_count": 67,
   "id": "05333e76",
   "metadata": {},
   "outputs": [],
   "source": [
    "trades: update px:4*px from trades where sym=`appl"
   ]
  },
  {
   "cell_type": "code",
   "execution_count": 71,
   "id": "7647897c",
   "metadata": {},
   "outputs": [
    {
     "data": {
      "text/plain": [
       "sym | px       vol     \n",
       "----| -----------------\n",
       "aapl| 100.0066 5002.855\n",
       "goog| 599.9624 5006.196\n",
       "ibm | 100.0019 5011.299\n"
      ]
     },
     "execution_count": 71,
     "metadata": {},
     "output_type": "execute_result"
    }
   ],
   "source": [
    "select avg px, avg vol by sym from trades / holy shit"
   ]
  },
  {
   "cell_type": "code",
   "execution_count": 74,
   "id": "c620cd7e",
   "metadata": {},
   "outputs": [
    {
     "data": {
      "text/plain": [
       "sym | lo  hi \n",
       "----| -------\n",
       "aapl| 90  110\n",
       "goog| 540 660\n",
       "ibm | 90  110\n"
      ]
     },
     "execution_count": 74,
     "metadata": {},
     "output_type": "execute_result"
    }
   ],
   "source": [
    "select lo: min px,hi: max px by sym from trades"
   ]
  },
  {
   "cell_type": "code",
   "execution_count": 87,
   "id": "4c174b42",
   "metadata": {},
   "outputs": [
    {
     "data": {
      "text/plain": [
       "0 0 0 0 5 5 5 5 5 10 10 10 10 10 15\n"
      ]
     },
     "execution_count": 87,
     "metadata": {},
     "output_type": "execute_result"
    }
   ],
   "source": [
    "5 xbar 1+til 15"
   ]
  },
  {
   "cell_type": "code",
   "execution_count": 81,
   "id": "f28b107d",
   "metadata": {},
   "outputs": [
    {
     "data": {
      "text/plain": [
       "1 2 3 4 5 6 7 8 9 10 11 12 13 14 15\n"
      ]
     },
     "execution_count": 81,
     "metadata": {},
     "output_type": "execute_result"
    }
   ],
   "source": [
    "1+til 15"
   ]
  },
  {
   "cell_type": "code",
   "execution_count": 93,
   "id": "4f93f11c",
   "metadata": {},
   "outputs": [
    {
     "data": {
      "text/plain": [
       "50\n"
      ]
     },
     "execution_count": 93,
     "metadata": {},
     "output_type": "execute_result"
    }
   ],
   "source": [
    "/ weighted average\n",
    "`long$(1 1 1 wavg 40 50 60)"
   ]
  },
  {
   "cell_type": "code",
   "execution_count": 98,
   "id": "e4943bcd",
   "metadata": {},
   "outputs": [
    {
     "data": {
      "text/plain": [
       "sym  bkt                 | vwap    \n",
       "-------------------------| --------\n",
       "aapl 0D00:00:00.100000000| 102.5187\n",
       "aapl 0D00:00:00.400000000| 105.6334\n",
       "aapl 0D00:00:01.200000000| 93.89   \n",
       "aapl 0D00:00:01.900000000| 104.06  \n",
       "aapl 0D00:00:02.200000000| 90.84   \n",
       "aapl 0D00:00:02.800000000| 101.57  \n",
       "aapl 0D00:00:03.000000000| 102.3725\n",
       "aapl 0D00:00:03.300000000| 91.3    \n",
       "aapl 0D00:00:06.100000000| 98.91   \n",
       "aapl 0D00:00:06.200000000| 103.97  \n",
       "aapl 0D00:00:06.300000000| 103.58  \n",
       "aapl 0D00:00:06.500000000| 103.99  \n",
       "aapl 0D00:00:06.800000000| 100.68  \n",
       "aapl 0D00:00:07.100000000| 101.57  \n",
       "aapl 0D00:00:07.300000000| 100.93  \n",
       "aapl 0D00:00:07.600000000| 90.54   \n",
       "aapl 0D00:00:07.800000000| 95.36836\n",
       "aapl 0D00:00:08.100000000| 101.7122\n",
       "aapl 0D00:00:08.200000000| 99.78   \n",
       "aapl 0D00:00:08.300000000| 93.98   \n",
       "..\n"
      ]
     },
     "execution_count": 98,
     "metadata": {},
     "output_type": "execute_result"
    }
   ],
   "source": [
    "select vwap: vol wavg px by sym,bkt:100000000 xbar tm from trades"
   ]
  },
  {
   "cell_type": "code",
   "execution_count": 101,
   "id": "d5d09703",
   "metadata": {},
   "outputs": [
    {
     "data": {
      "text/plain": [
       "px\n",
       "--\n",
       "20\n"
      ]
     },
     "execution_count": 101,
     "metadata": {},
     "output_type": "execute_result"
    }
   ],
   "source": [
    "// maximum profit in a single trade\n",
    "select max px-mins px from trades where sym=`aapl"
   ]
  },
  {
   "cell_type": "code",
   "execution_count": 102,
   "id": "b698b365",
   "metadata": {},
   "outputs": [
    {
     "data": {
      "text/plain": [
       "px \n",
       "---\n",
       "120\n"
      ]
     },
     "execution_count": 102,
     "metadata": {},
     "output_type": "execute_result"
    }
   ],
   "source": [
    "select max px-mins px from trades where sym=`goog"
   ]
  },
  {
   "cell_type": "code",
   "execution_count": 116,
   "id": "75177104",
   "metadata": {},
   "outputs": [
    {
     "data": {
      "text/plain": [
       "1b\n"
      ]
     },
     "execution_count": 116,
     "metadata": {},
     "output_type": "execute_result"
    }
   ],
   "source": [
    "(count \"string\")=6"
   ]
  },
  {
   "cell_type": "code",
   "execution_count": 119,
   "id": "4d2cd580",
   "metadata": {},
   "outputs": [
    {
     "data": {
      "text/plain": [
       "2\n"
      ]
     },
     "execution_count": 119,
     "metadata": {},
     "output_type": "execute_result"
    }
   ],
   "source": [
    "count `string`string"
   ]
  },
  {
   "cell_type": "markdown",
   "id": "4c79643d",
   "metadata": {},
   "source": [
    "### I/O, persisting data"
   ]
  },
  {
   "cell_type": "code",
   "execution_count": 121,
   "id": "ba6606a2",
   "metadata": {},
   "outputs": [
    {
     "data": {
      "text/plain": [
       "`:path/filename\n"
      ]
     },
     "execution_count": 121,
     "metadata": {},
     "output_type": "execute_result"
    }
   ],
   "source": [
    "/ write to file\n",
    "`:path/filename"
   ]
  },
  {
   "cell_type": "code",
   "execution_count": 123,
   "id": "21ef56e0",
   "metadata": {},
   "outputs": [],
   "source": [
    "wt:([] c1:`a`b`c; c2:1.1 2.2 3.3)"
   ]
  },
  {
   "cell_type": "code",
   "execution_count": 124,
   "id": "db3ff121",
   "metadata": {},
   "outputs": [
    {
     "data": {
      "text/plain": [
       "`:./q4m/files/t\n"
      ]
     },
     "execution_count": 124,
     "metadata": {},
     "output_type": "execute_result"
    }
   ],
   "source": [
    "`:./q4m/files/t set wt"
   ]
  },
  {
   "cell_type": "code",
   "execution_count": 125,
   "id": "fbe668c0",
   "metadata": {},
   "outputs": [
    {
     "data": {
      "text/plain": [
       "c1 c2 \n",
       "------\n",
       "a  1.1\n",
       "b  2.2\n",
       "c  3.3\n"
      ]
     },
     "execution_count": 125,
     "metadata": {},
     "output_type": "execute_result"
    }
   ],
   "source": [
    "get `:./q4m/files/t"
   ]
  },
  {
   "cell_type": "code",
   "execution_count": 126,
   "id": "7345d3ba",
   "metadata": {},
   "outputs": [
    {
     "data": {
      "text/plain": [
       "`:./q4m/file/life.txt\n"
      ]
     },
     "execution_count": 126,
     "metadata": {},
     "output_type": "execute_result"
    }
   ],
   "source": [
    "/0: is an overload to save text data\n",
    "`:./q4m/file/life.txt 0: (\"Meaning\";\"of\";\"life\")"
   ]
  },
  {
   "cell_type": "code",
   "execution_count": 127,
   "id": "97c2f3b9",
   "metadata": {},
   "outputs": [
    {
     "data": {
      "text/plain": [
       "\"Meaning\"\n",
       "\"of\"\n",
       "\"life\"\n"
      ]
     },
     "execution_count": 127,
     "metadata": {},
     "output_type": "execute_result"
    }
   ],
   "source": [
    "/read file as text\n",
    "read0 `:./q4m/file/life.txt"
   ]
  },
  {
   "cell_type": "code",
   "execution_count": 128,
   "id": "d9ad28d8",
   "metadata": {},
   "outputs": [],
   "source": [
    "txt:read0 `:./q4m/file/life.txt"
   ]
  },
  {
   "cell_type": "code",
   "execution_count": 129,
   "id": "05a88ed9",
   "metadata": {},
   "outputs": [
    {
     "data": {
      "text/plain": [
       "\"Meaning\"\n"
      ]
     },
     "execution_count": 129,
     "metadata": {},
     "output_type": "execute_result"
    }
   ],
   "source": [
    "txt[0]"
   ]
  },
  {
   "cell_type": "code",
   "execution_count": 132,
   "id": "5202865e",
   "metadata": {},
   "outputs": [
    {
     "data": {
      "text/plain": [
       "\"c1,c2,c3\"\n",
       "\"100,a,10\"\n",
       "\"101,b,20\"\n",
       "\"102,c,30\"\n",
       "\"103,a,40\"\n",
       "\"104,b,50\"\n",
       "\"105,a,60\"\n"
      ]
     },
     "execution_count": 132,
     "metadata": {},
     "output_type": "execute_result"
    }
   ],
   "source": [
    "/t as 0 (textual) csv\n",
    "csv 0:t"
   ]
  },
  {
   "cell_type": "code",
   "execution_count": 134,
   "id": "943ec052",
   "metadata": {},
   "outputs": [
    {
     "data": {
      "text/plain": [
       "`:./q4m/files/file.csv\n"
      ]
     },
     "execution_count": 134,
     "metadata": {},
     "output_type": "execute_result"
    }
   ],
   "source": [
    "`:./q4m/files/file.csv 0: csv 0:t"
   ]
  },
  {
   "cell_type": "code",
   "execution_count": 1,
   "id": "48697eaf",
   "metadata": {},
   "outputs": [
    {
     "data": {
      "text/plain": [
       "\"c1,c2,c3\"\n",
       "\"100,a,10\"\n",
       "\"101,b,20\"\n",
       "\"102,c,30\"\n",
       "\"103,a,40\"\n",
       "\"104,b,50\"\n",
       "\"105,a,60\"\n"
      ]
     },
     "execution_count": 1,
     "metadata": {},
     "output_type": "execute_result"
    }
   ],
   "source": [
    "read0 `:./q4m/files/file.csv"
   ]
  },
  {
   "cell_type": "code",
   "execution_count": 2,
   "id": "5a1e407c",
   "metadata": {},
   "outputs": [
    {
     "data": {
      "text/plain": [
       "c1  c2\n",
       "------\n",
       "100   \n",
       "101   \n",
       "102   \n",
       "103   \n",
       "104   \n",
       "105   \n"
      ]
     },
     "execution_count": 2,
     "metadata": {},
     "output_type": "execute_result"
    }
   ],
   "source": [
    "/ an overload of the 0: operator to parse a csv file into a table\n",
    "(\"SF\"; enlist \",\") 0: `:./q4m/files/file.csv"
   ]
  },
  {
   "cell_type": "code",
   "execution_count": 3,
   "id": "0b9b4c03",
   "metadata": {},
   "outputs": [],
   "source": [
    "f:{x*y}"
   ]
  },
  {
   "cell_type": "code",
   "execution_count": null,
   "id": "73852294",
   "metadata": {},
   "outputs": [],
   "source": []
  }
 ],
 "metadata": {
  "kernelspec": {
   "display_name": "Q (kdb+)",
   "language": "q",
   "name": "qpk"
  },
  "language_info": {
   "file_extension": ".q",
   "mimetype": "text/x-q",
   "name": "q",
   "version": "4.0"
  }
 },
 "nbformat": 4,
 "nbformat_minor": 5
}
